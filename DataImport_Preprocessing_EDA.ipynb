{
 "cells": [
  {
   "cell_type": "markdown",
   "metadata": {
    "id": "de39rO2w6sZO"
   },
   "source": [
    "# Building a Recommendation System for the MovieLens Dataset - Data Import, Preprocessing, EDA"
   ]
  },
  {
   "cell_type": "markdown",
   "metadata": {
    "id": "a8wOiSRQ6sZS"
   },
   "source": [
    "Nick Pasternak (nfp5ga), Kara Fallin (kmf4tg), Aparna Marathe (am7ad)"
   ]
  },
  {
   "cell_type": "markdown",
   "metadata": {},
   "source": [
    "In this notebook we load, process, and explore the data. Some of the data comes from the MovieLens data set while another portion was web scraped from the IMDB site. The web scraping code is located in a separate python file. Additionally, we load and process the data again in our three model building notebooks. "
   ]
  },
  {
   "cell_type": "code",
   "execution_count": 1,
   "metadata": {
    "id": "ZQKAG8AQ6sZT"
   },
   "outputs": [],
   "source": [
    "import pyspark\n",
    "import os\n",
    "import pyspark.sql.types as typ\n",
    "import pyspark.sql.functions as F\n",
    "from pyspark.sql.functions import col, asc, desc, split, regexp_extract, explode\n",
    "from pyspark.mllib import recommendation\n",
    "from pyspark.mllib.recommendation import *\n",
    "from pyspark.ml.evaluation import RegressionEvaluator\n",
    "from pyspark.ml.recommendation import ALS\n",
    "from pyspark.sql import Row\n",
    "from pyspark.sql.types import IntegerType, FloatType\n",
    "from pyspark.ml import Pipeline\n",
    "from pyspark.ml.tuning import CrossValidator, ParamGridBuilder"
   ]
  },
  {
   "cell_type": "code",
   "execution_count": 2,
   "metadata": {
    "id": "o8FSQgZT6sZU"
   },
   "outputs": [],
   "source": [
    "from pyspark.sql import SparkSession\n",
    "\n",
    "spark = SparkSession \\\n",
    "    .builder \\\n",
    "    .master(\"local\") \\\n",
    "    .appName(\"data preprocessing\") \\\n",
    "    .config(\"spark.executor.memory\", '8g') \\\n",
    "    .config('spark.executor.cores', '4') \\\n",
    "    .config('spark.cores.max', '4') \\\n",
    "    .config(\"spark.driver.memory\",'8g') \\\n",
    "    .getOrCreate()\n",
    "\n",
    "sc = spark.sparkContext"
   ]
  },
  {
   "cell_type": "code",
   "execution_count": 3,
   "metadata": {
    "colab": {
     "base_uri": "https://localhost:8080/",
     "height": 35
    },
    "id": "LVHx0BTJ6sZV",
    "outputId": "584c63a1-2523-40cf-a110-67283d5ac17a"
   },
   "outputs": [
    {
     "data": {
      "text/plain": [
       "'/project/ds5559/group10_reviews'"
      ]
     },
     "execution_count": 3,
     "metadata": {},
     "output_type": "execute_result"
    }
   ],
   "source": [
    "os.chdir('/project/ds5559/group10_reviews')\n",
    "os.getcwd()"
   ]
  },
  {
   "cell_type": "markdown",
   "metadata": {
    "id": "km2vNihi6sZW"
   },
   "source": [
    "## Load the data"
   ]
  },
  {
   "cell_type": "markdown",
   "metadata": {
    "id": "fGyLYdUD6sZZ"
   },
   "source": [
    "### Movie links: links to imdb website \n",
    "\n",
    "(https://www.imdb.com/title/tt0 + imdbId + /?ref_=fn_al_tt_1)"
   ]
  },
  {
   "cell_type": "code",
   "execution_count": 4,
   "metadata": {
    "colab": {
     "base_uri": "https://localhost:8080/"
    },
    "id": "kb7zkn_T6sZa",
    "outputId": "cbcd4f15-1e28-4887-f3c1-32688b327e51"
   },
   "outputs": [
    {
     "name": "stdout",
     "output_type": "stream",
     "text": [
      "+-------+------+------+\n",
      "|movieId|imdbId|tmdbId|\n",
      "+-------+------+------+\n",
      "|      1|114709|   862|\n",
      "|      2|113497|  8844|\n",
      "|      3|113228| 15602|\n",
      "|      4|114885| 31357|\n",
      "|      5|113041| 11862|\n",
      "|      6|113277|   949|\n",
      "|      7|114319| 11860|\n",
      "|      8|112302| 45325|\n",
      "|      9|114576|  9091|\n",
      "|     10|113189|   710|\n",
      "|     11|112346|  9087|\n",
      "|     12|112896| 12110|\n",
      "|     13|112453| 21032|\n",
      "|     14|113987| 10858|\n",
      "|     15|112760|  1408|\n",
      "|     16|112641|   524|\n",
      "|     17|114388|  4584|\n",
      "|     18|113101|     5|\n",
      "|     19|112281|  9273|\n",
      "|     20|113845| 11517|\n",
      "+-------+------+------+\n",
      "only showing top 20 rows\n",
      "\n"
     ]
    }
   ],
   "source": [
    "links = spark.read.csv(\"/project/ds5559/group10_reviews/link.csv\", header=True)\n",
    "links.show()"
   ]
  },
  {
   "cell_type": "code",
   "execution_count": 5,
   "metadata": {
    "colab": {
     "base_uri": "https://localhost:8080/"
    },
    "id": "KAhNUOMnBdt_",
    "outputId": "0f6bc48d-aca3-4aef-e3f5-576ee3a51447"
   },
   "outputs": [
    {
     "data": {
      "text/plain": [
       "27278"
      ]
     },
     "execution_count": 5,
     "metadata": {},
     "output_type": "execute_result"
    }
   ],
   "source": [
    "links.count()"
   ]
  },
  {
   "cell_type": "markdown",
   "metadata": {
    "id": "89Y6KNLz6sZa"
   },
   "source": [
    "### Movies"
   ]
  },
  {
   "cell_type": "code",
   "execution_count": 6,
   "metadata": {
    "colab": {
     "base_uri": "https://localhost:8080/"
    },
    "id": "Su04H4Q66sZb",
    "outputId": "f893e134-0adb-41ea-b24e-66db9ddc3e68"
   },
   "outputs": [
    {
     "name": "stdout",
     "output_type": "stream",
     "text": [
      "+-------+--------------------+--------------------+----+\n",
      "|movieId|               title|              genres|year|\n",
      "+-------+--------------------+--------------------+----+\n",
      "|      1|           Toy Story|[Adventure, Anima...|1995|\n",
      "|      2|             Jumanji|[Adventure, Child...|1995|\n",
      "|      3|    Grumpier Old Men|   [Comedy, Romance]|1995|\n",
      "|      4|   Waiting to Exhale|[Comedy, Drama, R...|1995|\n",
      "|      5|Father of the Bri...|            [Comedy]|1995|\n",
      "|      6|                Heat|[Action, Crime, T...|1995|\n",
      "|      7|             Sabrina|   [Comedy, Romance]|1995|\n",
      "|      8|        Tom and Huck|[Adventure, Child...|1995|\n",
      "|      9|        Sudden Death|            [Action]|1995|\n",
      "|     10|           GoldenEye|[Action, Adventur...|1995|\n",
      "|     11|American Presiden...|[Comedy, Drama, R...|1995|\n",
      "|     12|Dracula: Dead and...|    [Comedy, Horror]|1995|\n",
      "|     13|               Balto|[Adventure, Anima...|1995|\n",
      "|     14|               Nixon|             [Drama]|1995|\n",
      "|     15|    Cutthroat Island|[Action, Adventur...|1995|\n",
      "|     16|              Casino|      [Crime, Drama]|1995|\n",
      "|     17|Sense and Sensibi...|    [Drama, Romance]|1995|\n",
      "|     18|          Four Rooms|            [Comedy]|1995|\n",
      "|     19|Ace Ventura: When...|            [Comedy]|1995|\n",
      "|     20|         Money Train|[Action, Comedy, ...|1995|\n",
      "+-------+--------------------+--------------------+----+\n",
      "only showing top 20 rows\n",
      "\n"
     ]
    }
   ],
   "source": [
    "movies = spark.read.csv(\"/project/ds5559/group10_reviews/movie.csv\", header=True)\n",
    "movies = movies.withColumn('genres',split(col('genres'),\"[|]\"))\n",
    "movies = movies.withColumn('year',regexp_extract('title', r'(.*)\\((\\d+)\\)', 2))\n",
    "movies = movies.withColumn('title',regexp_extract('title', r'(.*) \\((\\d+)\\)', 1))\n",
    "movies.show()"
   ]
  },
  {
   "cell_type": "code",
   "execution_count": 7,
   "metadata": {
    "colab": {
     "base_uri": "https://localhost:8080/"
    },
    "id": "YEBzazSpBhKj",
    "outputId": "8bf7f0a6-999f-4b1a-eca7-1a504a418199"
   },
   "outputs": [
    {
     "data": {
      "text/plain": [
       "27278"
      ]
     },
     "execution_count": 7,
     "metadata": {},
     "output_type": "execute_result"
    }
   ],
   "source": [
    "movies.count()"
   ]
  },
  {
   "cell_type": "markdown",
   "metadata": {
    "id": "FN1lAWgP6sZb"
   },
   "source": [
    "### User ratings"
   ]
  },
  {
   "cell_type": "code",
   "execution_count": 8,
   "metadata": {
    "colab": {
     "base_uri": "https://localhost:8080/"
    },
    "id": "YUBdvJNE6sZb",
    "outputId": "24bb7fe6-921f-4db5-d592-3e21470d42a3"
   },
   "outputs": [
    {
     "name": "stdout",
     "output_type": "stream",
     "text": [
      "+------+-------+------+\n",
      "|userId|movieId|rating|\n",
      "+------+-------+------+\n",
      "|     1|      2|   3.5|\n",
      "|     1|     29|   3.5|\n",
      "|     1|     32|   3.5|\n",
      "|     1|     47|   3.5|\n",
      "|     1|     50|   3.5|\n",
      "|     1|    112|   3.5|\n",
      "|     1|    151|     4|\n",
      "|     1|    223|     4|\n",
      "|     1|    253|     4|\n",
      "|     1|    260|     4|\n",
      "|     1|    293|     4|\n",
      "|     1|    296|     4|\n",
      "|     1|    318|     4|\n",
      "|     1|    337|   3.5|\n",
      "|     1|    367|   3.5|\n",
      "|     1|    541|     4|\n",
      "|     1|    589|   3.5|\n",
      "|     1|    593|   3.5|\n",
      "|     1|    653|     3|\n",
      "|     1|    919|   3.5|\n",
      "+------+-------+------+\n",
      "only showing top 20 rows\n",
      "\n"
     ]
    }
   ],
   "source": [
    "ratings = spark.read.csv(\"/project/ds5559/group10_reviews/rating.csv\", header=True).drop('timestamp')\n",
    "ratings.show()"
   ]
  },
  {
   "cell_type": "code",
   "execution_count": 9,
   "metadata": {
    "colab": {
     "base_uri": "https://localhost:8080/"
    },
    "id": "_zNNcSVWBkT8",
    "outputId": "64c27bea-dcef-41ba-c05a-605d14b34c0d"
   },
   "outputs": [
    {
     "data": {
      "text/plain": [
       "20000263"
      ]
     },
     "execution_count": 9,
     "metadata": {},
     "output_type": "execute_result"
    }
   ],
   "source": [
    "ratings.count()"
   ]
  },
  {
   "cell_type": "markdown",
   "metadata": {
    "id": "fkvdlKbE6sZd"
   },
   "source": [
    "-----------"
   ]
  },
  {
   "cell_type": "markdown",
   "metadata": {
    "id": "yoioEVXh6sZd"
   },
   "source": [
    "## Process the data"
   ]
  },
  {
   "cell_type": "markdown",
   "metadata": {
    "id": "v3neFr6OGesT"
   },
   "source": [
    "### Merge existing data"
   ]
  },
  {
   "cell_type": "code",
   "execution_count": 10,
   "metadata": {
    "id": "_BLCnPOZ6sZd"
   },
   "outputs": [
    {
     "name": "stdout",
     "output_type": "stream",
     "text": [
      "+-------+------+------+--------------------+--------------------+----+\n",
      "|movieId|userId|rating|               title|              genres|year|\n",
      "+-------+------+------+--------------------+--------------------+----+\n",
      "|      2|     1|   3.5|             Jumanji|[Adventure, Child...|1995|\n",
      "|     29|     1|   3.5|City of Lost Chil...|[Adventure, Drama...|1995|\n",
      "|     32|     1|   3.5|Twelve Monkeys (a...|[Mystery, Sci-Fi,...|1995|\n",
      "|     47|     1|   3.5|Seven (a.k.a. Se7en)| [Mystery, Thriller]|1995|\n",
      "|     50|     1|   3.5| Usual Suspects, The|[Crime, Mystery, ...|1995|\n",
      "|    112|     1|   3.5|Rumble in the Bro...|[Action, Adventur...|1995|\n",
      "|    151|     1|     4|             Rob Roy|[Action, Drama, R...|1995|\n",
      "|    223|     1|     4|              Clerks|            [Comedy]|1994|\n",
      "|    253|     1|     4|Interview with th...|     [Drama, Horror]|1994|\n",
      "|    260|     1|     4|Star Wars: Episod...|[Action, Adventur...|1977|\n",
      "|    293|     1|     4|Léon: The Profess...|[Action, Crime, D...|1994|\n",
      "|    296|     1|     4|        Pulp Fiction|[Comedy, Crime, D...|1994|\n",
      "|    318|     1|     4|Shawshank Redempt...|      [Crime, Drama]|1994|\n",
      "|    337|     1|   3.5|What's Eating Gil...|             [Drama]|1993|\n",
      "|    367|     1|   3.5|           Mask, The|[Action, Comedy, ...|1994|\n",
      "|    541|     1|     4|        Blade Runner|[Action, Sci-Fi, ...|1982|\n",
      "|    589|     1|   3.5|Terminator 2: Jud...|    [Action, Sci-Fi]|1991|\n",
      "|    593|     1|   3.5|Silence of the La...|[Crime, Horror, T...|1991|\n",
      "|    653|     1|     3|         Dragonheart|[Action, Adventur...|1996|\n",
      "|    919|     1|   3.5|   Wizard of Oz, The|[Adventure, Child...|1939|\n",
      "+-------+------+------+--------------------+--------------------+----+\n",
      "only showing top 20 rows\n",
      "\n"
     ]
    }
   ],
   "source": [
    "df1 = ratings.join(movies,on=\"movieId\",how=\"inner\")\n",
    "df1.show()"
   ]
  },
  {
   "cell_type": "code",
   "execution_count": 11,
   "metadata": {
    "colab": {
     "base_uri": "https://localhost:8080/"
    },
    "id": "8XAcNE1V6sZe",
    "outputId": "4a93e11c-c360-439a-b66d-08ae487eb79e"
   },
   "outputs": [
    {
     "data": {
      "text/plain": [
       "20000263"
      ]
     },
     "execution_count": 11,
     "metadata": {},
     "output_type": "execute_result"
    }
   ],
   "source": [
    "df1.count()"
   ]
  },
  {
   "cell_type": "code",
   "execution_count": 12,
   "metadata": {
    "colab": {
     "base_uri": "https://localhost:8080/"
    },
    "id": "Tkvf6BDE6-Sr",
    "outputId": "9ea395cf-75e3-45c6-88ee-e4be91d42292"
   },
   "outputs": [
    {
     "name": "stdout",
     "output_type": "stream",
     "text": [
      "+-------+------+------+--------------------+--------------------+----+------+\n",
      "|movieId|userId|rating|               title|              genres|year|imdbId|\n",
      "+-------+------+------+--------------------+--------------------+----+------+\n",
      "|      2|     1|   3.5|             Jumanji|[Adventure, Child...|1995|113497|\n",
      "|     29|     1|   3.5|City of Lost Chil...|[Adventure, Drama...|1995|112682|\n",
      "|     32|     1|   3.5|Twelve Monkeys (a...|[Mystery, Sci-Fi,...|1995|114746|\n",
      "|     47|     1|   3.5|Seven (a.k.a. Se7en)| [Mystery, Thriller]|1995|114369|\n",
      "|     50|     1|   3.5| Usual Suspects, The|[Crime, Mystery, ...|1995|114814|\n",
      "|    112|     1|   3.5|Rumble in the Bro...|[Action, Adventur...|1995|113326|\n",
      "|    151|     1|     4|             Rob Roy|[Action, Drama, R...|1995|114287|\n",
      "|    223|     1|     4|              Clerks|            [Comedy]|1994|109445|\n",
      "|    253|     1|     4|Interview with th...|     [Drama, Horror]|1994|110148|\n",
      "|    260|     1|     4|Star Wars: Episod...|[Action, Adventur...|1977| 76759|\n",
      "|    293|     1|     4|Léon: The Profess...|[Action, Crime, D...|1994|110413|\n",
      "|    296|     1|     4|        Pulp Fiction|[Comedy, Crime, D...|1994|110912|\n",
      "|    318|     1|     4|Shawshank Redempt...|      [Crime, Drama]|1994|111161|\n",
      "|    337|     1|   3.5|What's Eating Gil...|             [Drama]|1993|108550|\n",
      "|    367|     1|   3.5|           Mask, The|[Action, Comedy, ...|1994|110475|\n",
      "|    541|     1|     4|        Blade Runner|[Action, Sci-Fi, ...|1982| 83658|\n",
      "|    589|     1|   3.5|Terminator 2: Jud...|    [Action, Sci-Fi]|1991|103064|\n",
      "|    593|     1|   3.5|Silence of the La...|[Crime, Horror, T...|1991|102926|\n",
      "|    653|     1|     3|         Dragonheart|[Action, Adventur...|1996|116136|\n",
      "|    919|     1|   3.5|   Wizard of Oz, The|[Adventure, Child...|1939| 32138|\n",
      "+-------+------+------+--------------------+--------------------+----+------+\n",
      "only showing top 20 rows\n",
      "\n"
     ]
    }
   ],
   "source": [
    "df2 = df1.join(links,on=['movieId'],how='inner').drop('tmdbId')\n",
    "df2.show()"
   ]
  },
  {
   "cell_type": "code",
   "execution_count": 13,
   "metadata": {
    "colab": {
     "base_uri": "https://localhost:8080/"
    },
    "id": "nQLaMKG86-ex",
    "outputId": "5f2de2e0-f137-4b78-ecad-cfbf93cf3a58"
   },
   "outputs": [
    {
     "data": {
      "text/plain": [
       "20000263"
      ]
     },
     "execution_count": 13,
     "metadata": {},
     "output_type": "execute_result"
    }
   ],
   "source": [
    "df2.count()"
   ]
  },
  {
   "cell_type": "code",
   "execution_count": 14,
   "metadata": {},
   "outputs": [
    {
     "name": "stdout",
     "output_type": "stream",
     "text": [
      "+------+---------+-----+--------------------+\n",
      "|imdbId| category|score|         description|\n",
      "+------+---------+-----+--------------------+\n",
      "| 47437|   Passed|  7.6|Linus and David L...|\n",
      "| 82971|       PG|  8.4|The year is 1936....|\n",
      "|100263|        R|  7.3|An urgent life-or...|\n",
      "|102536|        R|  7.7|A collection of f...|\n",
      "| 13442|Not Rated|  7.9|Wisbourg, Germany...|\n",
      "|105435|    PG-13|  7.1|Martin Bishop is ...|\n",
      "|120207|    PG-13|  3.0|\"John Henry Irons...|\n",
      "|119675|        R|  6.0|A disease carried...|\n",
      "|119655|     null|  5.7|\"In a world where...|\n",
      "|120478|       PG|  5.3|Shy seventh-grade...|\n",
      "|101272|    PG-13|  6.9|The Addams Family...|\n",
      "| 46534|        G|  7.0|H.G. Wells' class...|\n",
      "| 60095| Approved|  6.3|Suave former Texa...|\n",
      "| 67525|       PG|  6.4|\"Due to an experi...|\n",
      "| 97717|        R|  3.9|\"\"\"Porky\"\" style ...|\n",
      "|158371|    PG-13|  7.2|A comedic biopic ...|\n",
      "|104454|       PG|  7.4|Encounter of thre...|\n",
      "|110629|     1994|  2.8|Sam and Dave are ...|\n",
      "|160009|        R|  5.7|Shaw is an operat...|\n",
      "|231775|    PG-13|  5.4|It seems everyone...|\n",
      "+------+---------+-----+--------------------+\n",
      "only showing top 20 rows\n",
      "\n"
     ]
    }
   ],
   "source": [
    "scrape = spark.read.csv(\"/project/ds5559/group10_reviews/movie_scrape.csv\", header=True)\n",
    "scrape = scrape.drop('title','year', 'genres')\n",
    "scrape.show()"
   ]
  },
  {
   "cell_type": "code",
   "execution_count": 15,
   "metadata": {},
   "outputs": [
    {
     "data": {
      "text/plain": [
       "27282"
      ]
     },
     "execution_count": 15,
     "metadata": {},
     "output_type": "execute_result"
    }
   ],
   "source": [
    "scrape.count()"
   ]
  },
  {
   "cell_type": "code",
   "execution_count": 16,
   "metadata": {},
   "outputs": [
    {
     "name": "stdout",
     "output_type": "stream",
     "text": [
      "+------+-------+------+------+--------------------+--------------------+----+--------+-----+--------------------+\n",
      "|imdbId|movieId|userId|rating|               title|              genres|year|category|score|         description|\n",
      "+------+-------+------+------+--------------------+--------------------+----+--------+-----+--------------------+\n",
      "|113497|      2|     1|   3.5|             Jumanji|[Adventure, Child...|1995|      PG|  7.0|Jumanji, one of t...|\n",
      "|112682|     29|     1|   3.5|City of Lost Chil...|[Adventure, Drama...|1995|       R|  7.5|Set in a dystopia...|\n",
      "|114746|     32|     1|   3.5|Twelve Monkeys (a...|[Mystery, Sci-Fi,...|1995|       R|  8.0|James Cole, a pri...|\n",
      "|114369|     47|     1|   3.5|Seven (a.k.a. Se7en)| [Mystery, Thriller]|1995|       R|  8.6|A film about two ...|\n",
      "|114814|     50|     1|   3.5| Usual Suspects, The|[Crime, Mystery, ...|1995|       R|  8.5|Following a truck...|\n",
      "|113326|    112|     1|   3.5|Rumble in the Bro...|[Action, Adventur...|1995|       R|  6.7|Keong comes from ...|\n",
      "|114287|    151|     1|     4|             Rob Roy|[Action, Drama, R...|1995|       R|  6.9|In the highlands ...|\n",
      "|109445|    223|     1|     4|              Clerks|            [Comedy]|1994|       R|  7.7|Dante Hicks is no...|\n",
      "|110148|    253|     1|     4|Interview with th...|     [Drama, Horror]|1994|       R|  7.5|Against the backd...|\n",
      "| 76759|    260|     1|     4|Star Wars: Episod...|[Action, Adventur...|1977|      PG|  8.6|The Imperial Forc...|\n",
      "|110413|    293|     1|     4|Léon: The Profess...|[Action, Crime, D...|1994|       R|  8.6|After her father,...|\n",
      "|110912|    296|     1|     4|        Pulp Fiction|[Comedy, Crime, D...|1994|       R|  8.9|   Jules Winnfield (|\n",
      "|111161|    318|     1|     4|Shawshank Redempt...|      [Crime, Drama]|1994|       R|  9.3|Chronicles the ex...|\n",
      "|108550|    337|     1|   3.5|What's Eating Gil...|             [Drama]|1993|   PG-13|  7.8|What's Eating Gib...|\n",
      "|110475|    367|     1|   3.5|           Mask, The|[Action, Comedy, ...|1994|   PG-13|  6.9|Timid bank clerk,...|\n",
      "| 83658|    541|     1|     4|        Blade Runner|[Action, Sci-Fi, ...|1982|       R|  8.1|\"In the early twe...|\n",
      "|103064|    589|     1|   3.5|Terminator 2: Jud...|    [Action, Sci-Fi]|1991|       R|  8.6|Over 10 years hav...|\n",
      "|102926|    593|     1|   3.5|Silence of the La...|[Crime, Horror, T...|1991|       R|  8.6|\"F.B.I. trainee C...|\n",
      "|116136|    653|     1|     3|         Dragonheart|[Action, Adventur...|1996|   PG-13|  6.4|\"The young, sickl...|\n",
      "| 32138|    919|     1|   3.5|   Wizard of Oz, The|[Adventure, Child...|1939|       G|  8.1|When a tornado ri...|\n",
      "+------+-------+------+------+--------------------+--------------------+----+--------+-----+--------------------+\n",
      "only showing top 20 rows\n",
      "\n"
     ]
    }
   ],
   "source": [
    "df = df2.join(scrape,on='imdbId',how='inner')\n",
    "df.show()"
   ]
  },
  {
   "cell_type": "code",
   "execution_count": 17,
   "metadata": {},
   "outputs": [
    {
     "data": {
      "text/plain": [
       "20000263"
      ]
     },
     "execution_count": 17,
     "metadata": {},
     "output_type": "execute_result"
    }
   ],
   "source": [
    "df.count()"
   ]
  },
  {
   "cell_type": "code",
   "execution_count": 18,
   "metadata": {},
   "outputs": [
    {
     "name": "stdout",
     "output_type": "stream",
     "text": [
      "+-------+------+------+--------------------+--------------------+----+--------+-----+--------------------+\n",
      "|movieId|userId|rating|               title|              genres|year|category|score|         description|\n",
      "+-------+------+------+--------------------+--------------------+----+--------+-----+--------------------+\n",
      "|      2|     1|   3.5|             Jumanji|[Adventure, Child...|1995|      PG|  7.0|Jumanji, one of t...|\n",
      "|     29|     1|   3.5|City of Lost Chil...|[Adventure, Drama...|1995|       R|  7.5|Set in a dystopia...|\n",
      "|     32|     1|   3.5|Twelve Monkeys (a...|[Mystery, Sci-Fi,...|1995|       R|  8.0|James Cole, a pri...|\n",
      "|     47|     1|   3.5|Seven (a.k.a. Se7en)| [Mystery, Thriller]|1995|       R|  8.6|A film about two ...|\n",
      "|     50|     1|   3.5| Usual Suspects, The|[Crime, Mystery, ...|1995|       R|  8.5|Following a truck...|\n",
      "|    112|     1|   3.5|Rumble in the Bro...|[Action, Adventur...|1995|       R|  6.7|Keong comes from ...|\n",
      "|    151|     1|     4|             Rob Roy|[Action, Drama, R...|1995|       R|  6.9|In the highlands ...|\n",
      "|    223|     1|     4|              Clerks|            [Comedy]|1994|       R|  7.7|Dante Hicks is no...|\n",
      "|    253|     1|     4|Interview with th...|     [Drama, Horror]|1994|       R|  7.5|Against the backd...|\n",
      "|    260|     1|     4|Star Wars: Episod...|[Action, Adventur...|1977|      PG|  8.6|The Imperial Forc...|\n",
      "|    293|     1|     4|Léon: The Profess...|[Action, Crime, D...|1994|       R|  8.6|After her father,...|\n",
      "|    296|     1|     4|        Pulp Fiction|[Comedy, Crime, D...|1994|       R|  8.9|   Jules Winnfield (|\n",
      "|    318|     1|     4|Shawshank Redempt...|      [Crime, Drama]|1994|       R|  9.3|Chronicles the ex...|\n",
      "|    337|     1|   3.5|What's Eating Gil...|             [Drama]|1993|   PG-13|  7.8|What's Eating Gib...|\n",
      "|    367|     1|   3.5|           Mask, The|[Action, Comedy, ...|1994|   PG-13|  6.9|Timid bank clerk,...|\n",
      "|    541|     1|     4|        Blade Runner|[Action, Sci-Fi, ...|1982|       R|  8.1|\"In the early twe...|\n",
      "|    589|     1|   3.5|Terminator 2: Jud...|    [Action, Sci-Fi]|1991|       R|  8.6|Over 10 years hav...|\n",
      "|    593|     1|   3.5|Silence of the La...|[Crime, Horror, T...|1991|       R|  8.6|\"F.B.I. trainee C...|\n",
      "|    653|     1|     3|         Dragonheart|[Action, Adventur...|1996|   PG-13|  6.4|\"The young, sickl...|\n",
      "|    919|     1|   3.5|   Wizard of Oz, The|[Adventure, Child...|1939|       G|  8.1|When a tornado ri...|\n",
      "+-------+------+------+--------------------+--------------------+----+--------+-----+--------------------+\n",
      "only showing top 20 rows\n",
      "\n"
     ]
    }
   ],
   "source": [
    "df = df.drop('imdbId')\n",
    "df.show()"
   ]
  },
  {
   "cell_type": "code",
   "execution_count": 19,
   "metadata": {},
   "outputs": [],
   "source": [
    "df = df.withColumn('movieId', col('movieId').cast(IntegerType()))\n",
    "df = df.withColumn('userId', col('userId').cast(IntegerType()))\n",
    "df = df.withColumn('rating', col('rating').cast(FloatType()))\n",
    "df = df.withColumn('year', col('year').cast(IntegerType()))\n",
    "df = df.withColumn('score', col('score').cast(FloatType()))"
   ]
  },
  {
   "cell_type": "code",
   "execution_count": 20,
   "metadata": {},
   "outputs": [
    {
     "name": "stdout",
     "output_type": "stream",
     "text": [
      "root\n",
      " |-- movieId: integer (nullable = true)\n",
      " |-- userId: integer (nullable = true)\n",
      " |-- rating: float (nullable = true)\n",
      " |-- title: string (nullable = true)\n",
      " |-- genres: array (nullable = true)\n",
      " |    |-- element: string (containsNull = true)\n",
      " |-- year: integer (nullable = true)\n",
      " |-- category: string (nullable = true)\n",
      " |-- score: float (nullable = true)\n",
      " |-- description: string (nullable = true)\n",
      "\n"
     ]
    }
   ],
   "source": [
    "df.printSchema()"
   ]
  },
  {
   "cell_type": "markdown",
   "metadata": {
    "id": "1af0SQ4FGt3L"
   },
   "source": [
    "----------------------"
   ]
  },
  {
   "cell_type": "markdown",
   "metadata": {
    "id": "SXEjCRdhGu8o"
   },
   "source": [
    "## Explore the data"
   ]
  },
  {
   "cell_type": "code",
   "execution_count": 21,
   "metadata": {
    "colab": {
     "base_uri": "https://localhost:8080/"
    },
    "id": "lbsq6Seo6sZe",
    "outputId": "7453ded7-8729-44f4-adc5-b2e19a380f21"
   },
   "outputs": [
    {
     "data": {
      "text/plain": [
       "9"
      ]
     },
     "execution_count": 21,
     "metadata": {},
     "output_type": "execute_result"
    }
   ],
   "source": [
    "# number of columns\n",
    "len(df.columns)"
   ]
  },
  {
   "cell_type": "code",
   "execution_count": 22,
   "metadata": {
    "colab": {
     "base_uri": "https://localhost:8080/"
    },
    "id": "2tWZNivI6sZe",
    "outputId": "b7172dd6-8f19-4320-d5a1-2827a8d941c7"
   },
   "outputs": [
    {
     "name": "stdout",
     "output_type": "stream",
     "text": [
      "+-------+------------------+\n",
      "|summary|            rating|\n",
      "+-------+------------------+\n",
      "|  count|          20000263|\n",
      "|   mean|3.5255285642993797|\n",
      "| stddev| 1.051988919294229|\n",
      "|    min|               0.5|\n",
      "|    max|               5.0|\n",
      "+-------+------------------+\n",
      "\n"
     ]
    }
   ],
   "source": [
    "# target variable summary\n",
    "df.describe(\"rating\").show()"
   ]
  },
  {
   "cell_type": "code",
   "execution_count": 23,
   "metadata": {
    "colab": {
     "base_uri": "https://localhost:8080/"
    },
    "id": "Y-h6SrFz6sZe",
    "outputId": "637e8fe3-fd95-472b-c127-a6fefbb269af"
   },
   "outputs": [
    {
     "name": "stdout",
     "output_type": "stream",
     "text": [
      "+-------+------------------+------------------+\n",
      "|summary|              year|             score|\n",
      "+-------+------------------+------------------+\n",
      "|  count|          19999858|          19984017|\n",
      "|   mean|1991.5156462610885| 7.201700837581482|\n",
      "| stddev|14.191408119108827|0.9459575939889878|\n",
      "|    min|              1891|               1.3|\n",
      "|    max|              2015|               9.4|\n",
      "+-------+------------------+------------------+\n",
      "\n"
     ]
    }
   ],
   "source": [
    "# predictor variables summary\n",
    "df.describe([col for col in df.columns if col in ['year','score']]).show()"
   ]
  },
  {
   "cell_type": "code",
   "execution_count": 24,
   "metadata": {},
   "outputs": [
    {
     "name": "stdout",
     "output_type": "stream",
     "text": [
      "+-------+------------------+\n",
      "|summary|             score|\n",
      "+-------+------------------+\n",
      "|  count|           2198764|\n",
      "|   mean| 7.233130991724717|\n",
      "| stddev|0.8019640790753377|\n",
      "|    min|               1.4|\n",
      "|    max|               9.4|\n",
      "+-------+------------------+\n",
      "\n"
     ]
    }
   ],
   "source": [
    "df.filter(col('rating') == '3.5').describe('score').show()"
   ]
  },
  {
   "cell_type": "code",
   "execution_count": 25,
   "metadata": {},
   "outputs": [
    {
     "name": "stdout",
     "output_type": "stream",
     "text": [
      "+-------+------------------+\n",
      "|summary|             score|\n",
      "+-------+------------------+\n",
      "|  count|           5556801|\n",
      "|   mean| 7.384075284844735|\n",
      "| stddev|0.7866036281461439|\n",
      "|    min|               1.7|\n",
      "|    max|               9.4|\n",
      "+-------+------------------+\n",
      "\n"
     ]
    }
   ],
   "source": [
    "df.filter(col('rating') == '4').describe('score').show()"
   ]
  },
  {
   "cell_type": "code",
   "execution_count": 26,
   "metadata": {},
   "outputs": [
    {
     "name": "stdout",
     "output_type": "stream",
     "text": [
      "+-------+------------------+\n",
      "|summary|             score|\n",
      "+-------+------------------+\n",
      "|  count|           1533214|\n",
      "|   mean|7.6922549232768525|\n",
      "| stddev|0.7193399844027039|\n",
      "|    min|               1.7|\n",
      "|    max|               9.4|\n",
      "+-------+------------------+\n",
      "\n"
     ]
    }
   ],
   "source": [
    "df.filter(col('rating') == '4.5').describe('score').show()"
   ]
  },
  {
   "cell_type": "code",
   "execution_count": 27,
   "metadata": {},
   "outputs": [
    {
     "name": "stdout",
     "output_type": "stream",
     "text": [
      "+-------+------------------+\n",
      "|summary|             score|\n",
      "+-------+------------------+\n",
      "|  count|           2893888|\n",
      "|   mean|7.7233097783895825|\n",
      "| stddev|0.7806390327191743|\n",
      "|    min|               1.3|\n",
      "|    max|               9.4|\n",
      "+-------+------------------+\n",
      "\n"
     ]
    }
   ],
   "source": [
    "df.filter(col('rating') == '5').describe('score').show()"
   ]
  },
  {
   "cell_type": "code",
   "execution_count": 28,
   "metadata": {
    "colab": {
     "base_uri": "https://localhost:8080/",
     "height": 283
    },
    "id": "bDZNBtJm6sZf",
    "outputId": "cc2ab732-9e3b-448e-cfaa-6850f176d150"
   },
   "outputs": [
    {
     "data": {
      "text/plain": [
       "<AxesSubplot:ylabel='Frequency'>"
      ]
     },
     "execution_count": 28,
     "metadata": {},
     "output_type": "execute_result"
    },
    {
     "data": {
      "image/png": "[encoded data removed]",
      "text/plain": [
       "<Figure size 432x288 with 1 Axes>"
      ]
     },
     "metadata": {
      "needs_background": "light"
     },
     "output_type": "display_data"
    }
   ],
   "source": [
    "%matplotlib inline\n",
    "import pandas as pd\n",
    "x = df.select(col('rating').cast('float').alias('rating')).toPandas()\n",
    "x.plot(kind='hist')"
   ]
  },
  {
   "cell_type": "code",
   "execution_count": 29,
   "metadata": {},
   "outputs": [
    {
     "data": {
      "text/plain": [
       "<AxesSubplot:ylabel='Frequency'>"
      ]
     },
     "execution_count": 29,
     "metadata": {},
     "output_type": "execute_result"
    },
    {
     "data": {
      "image/png": "[encoded data removed]",
      "text/plain": [
       "<Figure size 432x288 with 1 Axes>"
      ]
     },
     "metadata": {
      "needs_background": "light"
     },
     "output_type": "display_data"
    }
   ],
   "source": [
    "%matplotlib inline\n",
    "import pandas as pd\n",
    "x = df.select(col('score').cast('float').alias('score')).toPandas()\n",
    "x.plot(kind='hist')"
   ]
  },
  {
   "cell_type": "code",
   "execution_count": 30,
   "metadata": {},
   "outputs": [
    {
     "name": "stdout",
     "output_type": "stream",
     "text": [
      "+------------------+------------------+\n",
      "|               col|       avg(rating)|\n",
      "+------------------+------------------+\n",
      "|         Film-Noir|  3.96538126070082|\n",
      "|               War|3.8095307347384844|\n",
      "|       Documentary|3.7397176834178865|\n",
      "|             Crime|3.6745276025631113|\n",
      "|             Drama|3.6742955093068264|\n",
      "|           Mystery| 3.663508921312903|\n",
      "|              IMAX| 3.655945983272606|\n",
      "|         Animation|3.6174939235897994|\n",
      "|           Western|3.5704980246109406|\n",
      "|           Musical| 3.558090628821412|\n",
      "|           Romance| 3.541802581902903|\n",
      "|          Thriller|  3.50711121809216|\n",
      "|           Fantasy|3.5059453358738244|\n",
      "|         Adventure|3.5018926565473865|\n",
      "|            Action|  3.44386376493354|\n",
      "|            Sci-Fi|3.4367726714455005|\n",
      "|            Comedy|3.4260113054324886|\n",
      "|          Children|3.4081137685270444|\n",
      "|            Horror|3.2772238097518307|\n",
      "|(no genres listed)|3.0069252077562325|\n",
      "+------------------+------------------+\n",
      "\n"
     ]
    }
   ],
   "source": [
    "df.select(col('rating').cast('float').alias('rating'), explode(df.genres)).groupby('col').agg(F.mean('rating')).sort(col('avg(rating)'), ascending=False).show()"
   ]
  },
  {
   "cell_type": "code",
   "execution_count": 31,
   "metadata": {},
   "outputs": [
    {
     "name": "stdout",
     "output_type": "stream",
     "text": [
      "+------------------+------------------+\n",
      "|               col|        avg(score)|\n",
      "+------------------+------------------+\n",
      "|         Film-Noir| 7.817592510845813|\n",
      "|               War|  7.78039089870821|\n",
      "|              IMAX| 7.625594798003999|\n",
      "|       Documentary| 7.588305975130544|\n",
      "|         Animation| 7.548295050509254|\n",
      "|             Crime| 7.503955968670933|\n",
      "|             Drama|  7.45389545684855|\n",
      "|           Mystery| 7.448894842607299|\n",
      "|           Musical| 7.441691877710254|\n",
      "|           Western| 7.373610239577012|\n",
      "|           Fantasy| 7.248032444165451|\n",
      "|         Adventure| 7.236652543129051|\n",
      "|          Thriller| 7.173763825852716|\n",
      "|          Children|7.1465894945867365|\n",
      "|            Sci-Fi| 7.131651234233853|\n",
      "|           Romance| 7.119683861139643|\n",
      "|            Action| 7.106014478047541|\n",
      "|            Comedy| 6.975575977424163|\n",
      "|            Horror|6.8911118482389275|\n",
      "|(no genres listed)| 6.386349220881386|\n",
      "+------------------+------------------+\n",
      "\n"
     ]
    }
   ],
   "source": [
    "df.select(col('score').cast('float').alias('score'), explode(df.genres)).groupby('col').agg(F.mean('score')).sort(col('avg(score)'), ascending=False).show()"
   ]
  }
 ],
 "metadata": {
  "accelerator": "GPU",
  "colab": {
   "collapsed_sections": [],
   "name": "EDA_InitialModelBuilding.ipynb",
   "provenance": []
  },
  "kernelspec": {
   "display_name": "DS 5110 Spark 3.1",
   "language": "python",
   "name": "ds5110_spark3.1"
  },
  "language_info": {
   "codemirror_mode": {
    "name": "ipython",
    "version": 3
   },
   "file_extension": ".py",
   "mimetype": "text/x-python",
   "name": "python",
   "nbconvert_exporter": "python",
   "pygments_lexer": "ipython3",
   "version": "3.7.10"
  }
 },
 "nbformat": 4,
 "nbformat_minor": 4
}
