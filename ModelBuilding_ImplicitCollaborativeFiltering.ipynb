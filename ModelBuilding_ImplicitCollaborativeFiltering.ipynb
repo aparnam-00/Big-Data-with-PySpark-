{
 "cells": [
  {
   "cell_type": "markdown",
   "metadata": {
    "id": "de39rO2w6sZO"
   },
   "source": [
    "# Building a Recommendation System for the MovieLens Dataset - ALS Implicit Collaborative Filtering"
   ]
  },
  {
   "cell_type": "markdown",
   "metadata": {
    "id": "a8wOiSRQ6sZS"
   },
   "source": [
    "Nick Pasternak (nfp5ga), Kara Fallin (kmf4tg), Aparna Marathe (am7ad)"
   ]
  },
  {
   "cell_type": "markdown",
   "metadata": {},
   "source": [
    "In this notebook, we load and process the data again. Since our dataset contains 20 million rows, we took a 5% sample before doing a 70/30 train-test split. Then we proceeded to build our ALS implicit collaborative filtering model. We used 3-fold cross validation for tuning and evaluated the model using RMSE and also the actual movie predictions for a given user."
   ]
  },
  {
   "cell_type": "code",
   "execution_count": 1,
   "metadata": {
    "id": "ZQKAG8AQ6sZT"
   },
   "outputs": [],
   "source": [
    "import pyspark\n",
    "import os\n",
    "import pyspark.sql.types as typ\n",
    "import pyspark.sql.functions as F\n",
    "from pyspark.sql.functions import col, asc, desc, split, regexp_extract, explode\n",
    "from pyspark.mllib import recommendation\n",
    "from pyspark.mllib.recommendation import *\n",
    "from pyspark.ml.evaluation import RegressionEvaluator\n",
    "from pyspark.ml.recommendation import ALS\n",
    "from pyspark.sql import Row\n",
    "from pyspark.sql.types import IntegerType, FloatType\n",
    "from pyspark.ml import Pipeline\n",
    "from pyspark.ml.tuning import CrossValidator, ParamGridBuilder"
   ]
  },
  {
   "cell_type": "code",
   "execution_count": 2,
   "metadata": {
    "id": "o8FSQgZT6sZU"
   },
   "outputs": [],
   "source": [
    "from pyspark.sql import SparkSession\n",
    "\n",
    "spark = SparkSession \\\n",
    "    .builder \\\n",
    "    .master(\"local\") \\\n",
    "    .appName(\"collaborative_based_filtering\") \\\n",
    "    .config(\"spark.executor.memory\", '250g') \\\n",
    "    .config('spark.executor.cores', '8') \\\n",
    "    .config('spark.cores.max', '8') \\\n",
    "    .config(\"spark.driver.memory\",'250g') \\\n",
    "    .getOrCreate()\n",
    "\n",
    "sc = spark.sparkContext"
   ]
  },
  {
   "cell_type": "code",
   "execution_count": 3,
   "metadata": {},
   "outputs": [
    {
     "data": {
      "text/plain": [
       "'/sfs/qumulo/qhome/nfp5ga/Desktop/ds5110'"
      ]
     },
     "execution_count": 3,
     "metadata": {},
     "output_type": "execute_result"
    }
   ],
   "source": [
    "os.getcwd()"
   ]
  },
  {
   "cell_type": "markdown",
   "metadata": {
    "id": "km2vNihi6sZW"
   },
   "source": [
    "## Load the data"
   ]
  },
  {
   "cell_type": "markdown",
   "metadata": {
    "id": "fGyLYdUD6sZZ"
   },
   "source": [
    "### Movie links: links to imdb website \n",
    "\n",
    "(https://www.imdb.com/title/tt0 + imdbId + /?ref_=fn_al_tt_1)"
   ]
  },
  {
   "cell_type": "code",
   "execution_count": 4,
   "metadata": {
    "id": "kb7zkn_T6sZa"
   },
   "outputs": [],
   "source": [
    "links = spark.read.csv(\"/sfs/qumulo/qhome/nfp5ga/Desktop/ds5110/link.csv\", header=True)"
   ]
  },
  {
   "cell_type": "markdown",
   "metadata": {
    "id": "89Y6KNLz6sZa"
   },
   "source": [
    "### Movies"
   ]
  },
  {
   "cell_type": "code",
   "execution_count": 5,
   "metadata": {
    "id": "Su04H4Q66sZb"
   },
   "outputs": [],
   "source": [
    "movies = spark.read.csv(\"/sfs/qumulo/qhome/nfp5ga/Desktop/ds5110/movie.csv\", header=True)\n",
    "movies = movies.withColumn('genres',split(col('genres'),\"[|]\"))\n",
    "movies = movies.withColumn('year',regexp_extract('title', r'(.*)\\((\\d+)\\)', 2))\n",
    "movies = movies.withColumn('title',regexp_extract('title', r'(.*) \\((\\d+)\\)', 1))"
   ]
  },
  {
   "cell_type": "markdown",
   "metadata": {
    "id": "FN1lAWgP6sZb"
   },
   "source": [
    "### User ratings"
   ]
  },
  {
   "cell_type": "code",
   "execution_count": 6,
   "metadata": {
    "id": "YUBdvJNE6sZb"
   },
   "outputs": [],
   "source": [
    "ratings = spark.read.csv(\"/sfs/qumulo/qhome/nfp5ga/Desktop/ds5110/rating.csv\", header=True).drop('timestamp')"
   ]
  },
  {
   "cell_type": "markdown",
   "metadata": {
    "id": "fkvdlKbE6sZd"
   },
   "source": [
    "-----------"
   ]
  },
  {
   "cell_type": "markdown",
   "metadata": {
    "id": "yoioEVXh6sZd"
   },
   "source": [
    "## Process the data"
   ]
  },
  {
   "cell_type": "markdown",
   "metadata": {
    "id": "v3neFr6OGesT"
   },
   "source": [
    "### Merge existing data"
   ]
  },
  {
   "cell_type": "code",
   "execution_count": 7,
   "metadata": {
    "id": "_BLCnPOZ6sZd",
    "outputId": "80b7a4d7-030b-4100-b156-e2038c5f4c5a"
   },
   "outputs": [
    {
     "name": "stdout",
     "output_type": "stream",
     "text": [
      "+-------+------+------+--------------------+--------------------+----+--------+-----+--------------------+\n",
      "|movieId|userId|rating|               title|              genres|year|category|score|         description|\n",
      "+-------+------+------+--------------------+--------------------+----+--------+-----+--------------------+\n",
      "|      2|     1|   3.5|             Jumanji|[Adventure, Child...|1995|      PG|  7.0|Jumanji, one of t...|\n",
      "|     29|     1|   3.5|City of Lost Chil...|[Adventure, Drama...|1995|       R|  7.5|Set in a dystopia...|\n",
      "|     32|     1|   3.5|Twelve Monkeys (a...|[Mystery, Sci-Fi,...|1995|       R|  8.0|James Cole, a pri...|\n",
      "|     47|     1|   3.5|Seven (a.k.a. Se7en)| [Mystery, Thriller]|1995|       R|  8.6|A film about two ...|\n",
      "|     50|     1|   3.5| Usual Suspects, The|[Crime, Mystery, ...|1995|       R|  8.5|Following a truck...|\n",
      "|    112|     1|   3.5|Rumble in the Bro...|[Action, Adventur...|1995|       R|  6.7|Keong comes from ...|\n",
      "|    151|     1|     4|             Rob Roy|[Action, Drama, R...|1995|       R|  6.9|In the highlands ...|\n",
      "|    223|     1|     4|              Clerks|            [Comedy]|1994|       R|  7.7|Dante Hicks is no...|\n",
      "|    253|     1|     4|Interview with th...|     [Drama, Horror]|1994|       R|  7.5|Against the backd...|\n",
      "|    260|     1|     4|Star Wars: Episod...|[Action, Adventur...|1977|      PG|  8.6|The Imperial Forc...|\n",
      "|    293|     1|     4|Léon: The Profess...|[Action, Crime, D...|1994|       R|  8.6|After her father,...|\n",
      "|    296|     1|     4|        Pulp Fiction|[Comedy, Crime, D...|1994|       R|  8.9|   Jules Winnfield (|\n",
      "|    318|     1|     4|Shawshank Redempt...|      [Crime, Drama]|1994|       R|  9.3|Chronicles the ex...|\n",
      "|    337|     1|   3.5|What's Eating Gil...|             [Drama]|1993|   PG-13|  7.8|What's Eating Gib...|\n",
      "|    367|     1|   3.5|           Mask, The|[Action, Comedy, ...|1994|   PG-13|  6.9|Timid bank clerk,...|\n",
      "|    541|     1|     4|        Blade Runner|[Action, Sci-Fi, ...|1982|       R|  8.1|\"In the early twe...|\n",
      "|    589|     1|   3.5|Terminator 2: Jud...|    [Action, Sci-Fi]|1991|       R|  8.6|Over 10 years hav...|\n",
      "|    593|     1|   3.5|Silence of the La...|[Crime, Horror, T...|1991|       R|  8.6|\"F.B.I. trainee C...|\n",
      "|    653|     1|     3|         Dragonheart|[Action, Adventur...|1996|   PG-13|  6.4|\"The young, sickl...|\n",
      "|    919|     1|   3.5|   Wizard of Oz, The|[Adventure, Child...|1939|       G|  8.1|When a tornado ri...|\n",
      "+-------+------+------+--------------------+--------------------+----+--------+-----+--------------------+\n",
      "only showing top 20 rows\n",
      "\n"
     ]
    }
   ],
   "source": [
    "df1 = ratings.join(movies,on=\"movieId\",how=\"inner\")\n",
    "\n",
    "df2 = df1.join(links,on=['movieId'],how='inner').drop('tmdbId')\n",
    "\n",
    "scrape = spark.read.csv(\"/sfs/qumulo/qhome/nfp5ga/Desktop/ds5110/movie_scrape.csv\", header=True)\n",
    "scrape = scrape.drop('title','year', 'genres')\n",
    "\n",
    "df = df2.join(scrape,on='imdbId',how='inner')\n",
    "df = df.drop('imdbId')\n",
    "df.show()"
   ]
  },
  {
   "cell_type": "code",
   "execution_count": 8,
   "metadata": {
    "id": "soum_XB7ma5k"
   },
   "outputs": [],
   "source": [
    "df = df.withColumn('movieId', col('movieId').cast(IntegerType()))\n",
    "df = df.withColumn('userId', col('userId').cast(IntegerType()))\n",
    "df = df.withColumn('rating', col('rating').cast(FloatType()))\n",
    "df = df.withColumn('year', col('year').cast(IntegerType()))\n",
    "df = df.withColumn('score', col('score').cast(FloatType()))"
   ]
  },
  {
   "cell_type": "code",
   "execution_count": 9,
   "metadata": {
    "id": "YOAbOoA9ma5k",
    "outputId": "6167364e-6a9f-4c5c-8f9c-b11101d0293b"
   },
   "outputs": [
    {
     "name": "stdout",
     "output_type": "stream",
     "text": [
      "root\n",
      " |-- movieId: integer (nullable = true)\n",
      " |-- userId: integer (nullable = true)\n",
      " |-- rating: float (nullable = true)\n",
      " |-- title: string (nullable = true)\n",
      " |-- genres: array (nullable = true)\n",
      " |    |-- element: string (containsNull = true)\n",
      " |-- year: integer (nullable = true)\n",
      " |-- category: string (nullable = true)\n",
      " |-- score: float (nullable = true)\n",
      " |-- description: string (nullable = true)\n",
      "\n"
     ]
    }
   ],
   "source": [
    "df.printSchema()"
   ]
  },
  {
   "cell_type": "code",
   "execution_count": 10,
   "metadata": {},
   "outputs": [
    {
     "data": {
      "text/plain": [
       "20000263"
      ]
     },
     "execution_count": 10,
     "metadata": {},
     "output_type": "execute_result"
    }
   ],
   "source": [
    "df.count()"
   ]
  },
  {
   "cell_type": "code",
   "execution_count": 11,
   "metadata": {},
   "outputs": [
    {
     "name": "stdout",
     "output_type": "stream",
     "text": [
      "root\n",
      " |-- movieId: integer (nullable = true)\n",
      " |-- userId: integer (nullable = true)\n",
      " |-- rating: float (nullable = true)\n",
      " |-- title: string (nullable = true)\n",
      " |-- genres: array (nullable = true)\n",
      " |    |-- element: string (containsNull = true)\n",
      " |-- year: integer (nullable = true)\n",
      " |-- category: string (nullable = true)\n",
      " |-- score: float (nullable = true)\n",
      " |-- description: string (nullable = true)\n",
      "\n"
     ]
    }
   ],
   "source": [
    "df = df.na.drop()\n",
    "df.printSchema()"
   ]
  },
  {
   "cell_type": "code",
   "execution_count": 12,
   "metadata": {},
   "outputs": [
    {
     "data": {
      "text/plain": [
       "19809344"
      ]
     },
     "execution_count": 12,
     "metadata": {},
     "output_type": "execute_result"
    }
   ],
   "source": [
    "df.count()"
   ]
  },
  {
   "cell_type": "markdown",
   "metadata": {
    "id": "1af0SQ4FGt3L"
   },
   "source": [
    "----------------------"
   ]
  },
  {
   "cell_type": "markdown",
   "metadata": {
    "id": "lDEhXdB4G77s"
   },
   "source": [
    "## Build the collaborative-based filtering model with implicitPrefs=True"
   ]
  },
  {
   "cell_type": "code",
   "execution_count": 13,
   "metadata": {
    "id": "Wk0ze3X3ma5l"
   },
   "outputs": [],
   "source": [
    "seed=314"
   ]
  },
  {
   "cell_type": "code",
   "execution_count": 14,
   "metadata": {
    "id": "dlqpWzp5ma5l",
    "outputId": "4eb04afb-e821-4a7b-e823-46a8dcc94893"
   },
   "outputs": [
    {
     "data": {
      "text/plain": [
       "991777"
      ]
     },
     "execution_count": 14,
     "metadata": {},
     "output_type": "execute_result"
    }
   ],
   "source": [
    "df_red = df.sample(fraction=0.05, seed=seed)\n",
    "df_red.count()"
   ]
  },
  {
   "cell_type": "code",
   "execution_count": 15,
   "metadata": {
    "id": "AbKHZmrYma5m",
    "outputId": "03d562c6-ae9b-4d19-b130-bf05a4343759"
   },
   "outputs": [
    {
     "data": {
      "text/plain": [
       "DataFrame[movieId: int, userId: int, rating: float, title: string, genres: array<string>, year: int, category: string, score: float, description: string]"
      ]
     },
     "execution_count": 15,
     "metadata": {},
     "output_type": "execute_result"
    }
   ],
   "source": [
    "training, test = df_red.randomSplit([0.7, 0.3], seed=seed)\n",
    "training.cache()"
   ]
  },
  {
   "cell_type": "code",
   "execution_count": 16,
   "metadata": {
    "colab": {
     "base_uri": "https://localhost:8080/"
    },
    "id": "0cK0raMH6sZg",
    "outputId": "25e56080-1917-457f-9359-b3b516f192d8"
   },
   "outputs": [
    {
     "name": "stdout",
     "output_type": "stream",
     "text": [
      "52.12830924987793\n"
     ]
    }
   ],
   "source": [
    "# Build the recommendation model using ALS on the training data\n",
    "# Note we set cold start strategy to 'drop' to ensure we don't get NaN evaluation metrics\n",
    "als = ALS(implicitPrefs=True, userCol=\"userId\", itemCol=\"movieId\", ratingCol=\"rating\", coldStartStrategy=\"drop\")\n",
    "\n",
    "import time\n",
    "t = time.time()\n",
    "model = als.fit(training)\n",
    "print(time.time() - t)"
   ]
  },
  {
   "cell_type": "code",
   "execution_count": 17,
   "metadata": {
    "colab": {
     "base_uri": "https://localhost:8080/"
    },
    "id": "9Ag1kxQ96sZh",
    "outputId": "36960cab-6353-47d4-f752-3ace4bd2f814"
   },
   "outputs": [
    {
     "name": "stdout",
     "output_type": "stream",
     "text": [
      "Root-mean-square error is 3.6389397089901925\n"
     ]
    }
   ],
   "source": [
    "# Evaluate the model by computing the RMSE on the test data\n",
    "predictions = model.transform(test)\n",
    "evaluator = RegressionEvaluator(metricName=\"rmse\", labelCol=\"rating\", predictionCol=\"prediction\")\n",
    "rmse = evaluator.evaluate(predictions)\n",
    "print(\"Root-mean-square error is {}\".format(rmse))"
   ]
  },
  {
   "cell_type": "code",
   "execution_count": 18,
   "metadata": {
    "id": "kKEhEvL_6sZi"
   },
   "outputs": [],
   "source": [
    "ALS = ALS(implicitPrefs=True, userCol=\"userId\", itemCol=\"movieId\", ratingCol=\"rating\", coldStartStrategy=\"drop\")"
   ]
  },
  {
   "cell_type": "code",
   "execution_count": 19,
   "metadata": {
    "id": "qHW3G9okCzQE"
   },
   "outputs": [
    {
     "name": "stdout",
     "output_type": "stream",
     "text": [
      "4708.238175868988\n"
     ]
    }
   ],
   "source": [
    "## Tuning with CrossValidator\n",
    "paramMap = ParamGridBuilder() \\\n",
    "            .addGrid(ALS.rank, [10, 15, 20, 25]) \\\n",
    "            .addGrid(ALS.maxIter, [10, 15, 20, 25]) \\\n",
    "            .addGrid(ALS.regParam, [1, 0.1, 0.01]).build()\n",
    "\n",
    "\n",
    "evaluatorR = RegressionEvaluator(metricName=\"rmse\", labelCol=\"rating\")\n",
    "\n",
    "\n",
    "CVALS = CrossValidator(estimator=ALS,\n",
    "                       estimatorParamMaps=paramMap,\n",
    "                       evaluator=evaluatorR,\n",
    "                       numFolds=3)\n",
    "\n",
    "t1 = time.time()\n",
    "CVModel = CVALS.setParallelism(4).fit(training)\n",
    "print(time.time() - t1)"
   ]
  },
  {
   "cell_type": "code",
   "execution_count": 20,
   "metadata": {
    "id": "hkdKb_jiCzyc"
   },
   "outputs": [
    {
     "data": {
      "text/plain": [
       "10"
      ]
     },
     "execution_count": 20,
     "metadata": {},
     "output_type": "execute_result"
    }
   ],
   "source": [
    "CVModel.bestModel._java_obj.parent().getRank()"
   ]
  },
  {
   "cell_type": "code",
   "execution_count": 21,
   "metadata": {
    "id": "4zmnM_BsCz6L"
   },
   "outputs": [
    {
     "data": {
      "text/plain": [
       "25"
      ]
     },
     "execution_count": 21,
     "metadata": {},
     "output_type": "execute_result"
    }
   ],
   "source": [
    "CVModel.bestModel._java_obj.parent().getMaxIter()"
   ]
  },
  {
   "cell_type": "code",
   "execution_count": 22,
   "metadata": {
    "id": "_eupuucvC0Ac"
   },
   "outputs": [
    {
     "data": {
      "text/plain": [
       "0.01"
      ]
     },
     "execution_count": 22,
     "metadata": {},
     "output_type": "execute_result"
    }
   ],
   "source": [
    "CVModel.bestModel._java_obj.parent().getRegParam()"
   ]
  },
  {
   "cell_type": "code",
   "execution_count": 23,
   "metadata": {},
   "outputs": [],
   "source": [
    "model = CVModel.bestModel"
   ]
  },
  {
   "cell_type": "code",
   "execution_count": 24,
   "metadata": {
    "id": "Bc1CY5HEC0N-"
   },
   "outputs": [
    {
     "name": "stdout",
     "output_type": "stream",
     "text": [
      "Root-mean-square error is 3.6363641224017615\n"
     ]
    }
   ],
   "source": [
    "preds = model.transform(test)\n",
    "evaluator = RegressionEvaluator(metricName=\"rmse\", labelCol=\"rating\", predictionCol=\"prediction\")\n",
    "rmse = evaluator.evaluate(preds)\n",
    "print(\"Root-mean-square error is {}\".format(rmse))"
   ]
  },
  {
   "cell_type": "code",
   "execution_count": 25,
   "metadata": {
    "id": "GK2IL0Hwma5p"
   },
   "outputs": [
    {
     "name": "stdout",
     "output_type": "stream",
     "text": [
      "+-------+------+------+--------------------+--------------------+----+--------+-----+--------------------+-------------+\n",
      "|movieId|userId|rating|               title|              genres|year|category|score|         description|   prediction|\n",
      "+-------+------+------+--------------------+--------------------+----+--------+-----+--------------------+-------------+\n",
      "|    148| 96769|   3.0|Awfully Big Adven...|             [Drama]|1995|       R|  5.9|Set right after W...|  8.073185E-4|\n",
      "|    148|  1716|   2.0|Awfully Big Adven...|             [Drama]|1995|       R|  5.9|Set right after W...|-1.9265572E-6|\n",
      "|    148| 82418|   3.0|Awfully Big Adven...|             [Drama]|1995|       R|  5.9|Set right after W...| 0.0064904317|\n",
      "|    148| 61712|   4.0|Awfully Big Adven...|             [Drama]|1995|       R|  5.9|Set right after W...| 0.0031832778|\n",
      "|    148| 19380|   1.0|Awfully Big Adven...|             [Drama]|1995|       R|  5.9|Set right after W...| 2.4988665E-4|\n",
      "|    148| 27248|   4.0|Awfully Big Adven...|             [Drama]|1995|       R|  5.9|Set right after W...| 0.0034061365|\n",
      "|    463|  7647|   2.0|       Guilty as Sin|[Crime, Drama, Th...|1993|       R|  5.6|A man accused of ...| 2.0473005E-4|\n",
      "|    463| 36594|   2.0|       Guilty as Sin|[Crime, Drama, Th...|1993|       R|  5.6|A man accused of ...| 0.0025667439|\n",
      "|    463| 21285|   3.0|       Guilty as Sin|[Crime, Drama, Th...|1993|       R|  5.6|A man accused of ...|  0.002597509|\n",
      "|    463|119748|   3.0|       Guilty as Sin|[Crime, Drama, Th...|1993|       R|  5.6|A man accused of ...| 0.0029515151|\n",
      "+-------+------+------+--------------------+--------------------+----+--------+-----+--------------------+-------------+\n",
      "only showing top 10 rows\n",
      "\n"
     ]
    }
   ],
   "source": [
    "preds.show(10)"
   ]
  },
  {
   "cell_type": "code",
   "execution_count": 26,
   "metadata": {
    "id": "U4mLoC3Cma5q"
   },
   "outputs": [
    {
     "name": "stdout",
     "output_type": "stream",
     "text": [
      "+------+--------------------+\n",
      "|userId|     recommendations|\n",
      "+------+--------------------+\n",
      "|   148|[{592, 0.0795065}...|\n",
      "|   463|[{150, 0.11257335...|\n",
      "|   471|[{592, 0.3386333}...|\n",
      "|   496|[{1307, 0.0612846...|\n",
      "|   833|[{380, 0.11133534...|\n",
      "+------+--------------------+\n",
      "only showing top 5 rows\n",
      "\n"
     ]
    }
   ],
   "source": [
    "## Generate top 5 movie recommendations for each user\n",
    "recommendationsForUser = model.recommendForAllUsers(5)\n",
    "recommendationsForUser.show(5)"
   ]
  },
  {
   "cell_type": "code",
   "execution_count": 27,
   "metadata": {},
   "outputs": [
    {
     "name": "stdout",
     "output_type": "stream",
     "text": [
      "+-------+--------------------+\n",
      "|movieId|     recommendations|\n",
      "+-------+--------------------+\n",
      "|   1580|[{103126, 0.67020...|\n",
      "|   4900|[{103223, 0.00784...|\n",
      "|   5300|[{120948, 0.01267...|\n",
      "|   6620|[{103223, 0.09226...|\n",
      "|   7240|[{74054, 5.195516...|\n",
      "+-------+--------------------+\n",
      "only showing top 5 rows\n",
      "\n"
     ]
    }
   ],
   "source": [
    "## Generate top 5 user recommendations for each movie\n",
    "recommendationsForMovie = model.recommendForAllItems(5)\n",
    "recommendationsForMovie.show(5)"
   ]
  },
  {
   "cell_type": "code",
   "execution_count": 28,
   "metadata": {
    "id": "8hjxZtXWma5q"
   },
   "outputs": [
    {
     "name": "stdout",
     "output_type": "stream",
     "text": [
      "+------+-------+-----------+\n",
      "|userId|movieId|     rating|\n",
      "+------+-------+-----------+\n",
      "|   148|    592|  0.0795065|\n",
      "|   148|   1097| 0.07865931|\n",
      "|   148|   1210| 0.07499553|\n",
      "|   148|    587| 0.07012619|\n",
      "|   148|    364|  0.0689989|\n",
      "|   463|    150|0.112573355|\n",
      "|   463|    349|0.102550045|\n",
      "|   463|    592| 0.09886319|\n",
      "|   463|    110| 0.09632875|\n",
      "|   463|    590| 0.09380074|\n",
      "+------+-------+-----------+\n",
      "\n"
     ]
    }
   ],
   "source": [
    "nrecommendations = recommendationsForUser.withColumn('rec_exp', explode('recommendations')).select('userId', col('rec_exp.movieId'), col('rec_exp.rating'))\n",
    "nrecommendations.limit(10).show()"
   ]
  },
  {
   "cell_type": "code",
   "execution_count": 29,
   "metadata": {},
   "outputs": [
    {
     "name": "stdout",
     "output_type": "stream",
     "text": [
      "+-------+------+------------+\n",
      "|movieId|userId|      rating|\n",
      "+-------+------+------------+\n",
      "|   1580|103126|  0.67020917|\n",
      "|   1580| 77287|  0.63944685|\n",
      "|   1580|  5084|  0.62219054|\n",
      "|   1580| 74628|  0.61091256|\n",
      "|   1580|101704|  0.61050093|\n",
      "|   4900|103223| 0.007847544|\n",
      "|   4900|137686| 0.007516453|\n",
      "|   4900|125794| 0.007067479|\n",
      "|   4900|123606|0.0070533385|\n",
      "|   4900|118754| 0.007016423|\n",
      "+-------+------+------------+\n",
      "\n"
     ]
    }
   ],
   "source": [
    "nrecommendations2 = recommendationsForMovie.withColumn('rec_exp', explode('recommendations')).select('movieId', col('rec_exp.userId'), col('rec_exp.rating'))\n",
    "nrecommendations2.limit(10).show()"
   ]
  },
  {
   "cell_type": "code",
   "execution_count": 30,
   "metadata": {
    "id": "e4JKmpmema5q"
   },
   "outputs": [
    {
     "name": "stdout",
     "output_type": "stream",
     "text": [
      "+-------+------+-----------+------------------------+--------------------------------+----+\n",
      "|movieId|userId|rating     |title                   |genres                          |year|\n",
      "+-------+------+-----------+------------------------+--------------------------------+----+\n",
      "|150    |463   |0.112573355|Apollo 13               |[Adventure, Drama, IMAX]        |1995|\n",
      "|349    |463   |0.102550045|Clear and Present Danger|[Action, Crime, Drama, Thriller]|1994|\n",
      "|592    |463   |0.09886319 |Batman                  |[Action, Crime, Thriller]       |1989|\n",
      "|110    |463   |0.09632875 |Braveheart              |[Action, Drama, War]            |1995|\n",
      "|590    |463   |0.09380074 |Dances with Wolves      |[Adventure, Drama, Western]     |1990|\n",
      "+-------+------+-----------+------------------------+--------------------------------+----+\n",
      "\n"
     ]
    }
   ],
   "source": [
    "## Recommendations for user463\n",
    "nrecommendations.join(movies, on='movieId').filter('userId = 463').show(truncate=False)"
   ]
  },
  {
   "cell_type": "code",
   "execution_count": 31,
   "metadata": {
    "id": "SdaUAWEcma5q"
   },
   "outputs": [
    {
     "name": "stdout",
     "output_type": "stream",
     "text": [
      "+-------+------+------+---------------------------+------------------------+----+\n",
      "|movieId|userId|rating|title                      |genres                  |year|\n",
      "+-------+------+------+---------------------------+------------------------+----+\n",
      "|47     |463   |5     |Seven (a.k.a. Se7en)       |[Mystery, Thriller]     |1995|\n",
      "|272    |463   |5     |Madness of King George, The|[Comedy, Drama]         |1994|\n",
      "|150    |463   |5     |Apollo 13                  |[Adventure, Drama, IMAX]|1995|\n",
      "|17     |463   |5     |Sense and Sensibility      |[Drama, Romance]        |1995|\n",
      "|261    |463   |5     |Little Women               |[Drama]                 |1994|\n",
      "+-------+------+------+---------------------------+------------------------+----+\n",
      "\n"
     ]
    }
   ],
   "source": [
    "## Actual preferences for user463\n",
    "ratings.join(movies, on='movieId').filter('userId = 463').sort('rating', ascending=False).limit(5).show(truncate=False)"
   ]
  },
  {
   "cell_type": "code",
   "execution_count": 32,
   "metadata": {
    "id": "FS_YGb6mma5q"
   },
   "outputs": [
    {
     "name": "stdout",
     "output_type": "stream",
     "text": [
      "+-------+------+----------+--------------------------------------------------+-----------------------------------+----+\n",
      "|movieId|userId|rating    |title                                             |genres                             |year|\n",
      "+-------+------+----------+--------------------------------------------------+-----------------------------------+----+\n",
      "|5952   |318   |0.29793274|Lord of the Rings: The Two Towers, The            |[Adventure, Fantasy]               |2002|\n",
      "|2959   |318   |0.24764661|Fight Club                                        |[Action, Crime, Drama, Thriller]   |1999|\n",
      "|7153   |318   |0.22790271|Lord of the Rings: The Return of the King, The    |[Action, Adventure, Drama, Fantasy]|2003|\n",
      "|4993   |318   |0.21485268|Lord of the Rings: The Fellowship of the Ring, The|[Adventure, Fantasy]               |2001|\n",
      "|33794  |318   |0.1979719 |Batman Begins                                     |[Action, Crime, IMAX]              |2005|\n",
      "+-------+------+----------+--------------------------------------------------+-----------------------------------+----+\n",
      "\n"
     ]
    }
   ],
   "source": [
    "## Recommendations for user318\n",
    "nrecommendations.join(movies, on='movieId').filter('userId = 318').show(truncate=False)"
   ]
  },
  {
   "cell_type": "code",
   "execution_count": 33,
   "metadata": {
    "id": "6sGKGas4ma5r"
   },
   "outputs": [
    {
     "name": "stdout",
     "output_type": "stream",
     "text": [
      "+-------+------+------+------------------------------------------------------------------+-------------------------------------------------+----+\n",
      "|movieId|userId|rating|title                                                             |genres                                           |year|\n",
      "+-------+------+------+------------------------------------------------------------------+-------------------------------------------------+----+\n",
      "|1      |318   |5     |Toy Story                                                         |[Adventure, Animation, Children, Comedy, Fantasy]|1995|\n",
      "|589    |318   |5     |Terminator 2: Judgment Day                                        |[Action, Sci-Fi]                                 |1991|\n",
      "|1201   |318   |5     |Good, the Bad and the Ugly, The (Buono, il brutto, il cattivo, Il)|[Action, Adventure, Western]                     |1966|\n",
      "|1080   |318   |5     |Monty Python's Life of Brian                                      |[Comedy]                                         |1979|\n",
      "|1136   |318   |5     |Monty Python and the Holy Grail                                   |[Adventure, Comedy, Fantasy]                     |1975|\n",
      "+-------+------+------+------------------------------------------------------------------+-------------------------------------------------+----+\n",
      "\n"
     ]
    }
   ],
   "source": [
    "## Actual preferences for user318\n",
    "ratings.join(movies, on='movieId').filter('userId = 318').sort('rating', ascending=False).limit(5).show(truncate=False)"
   ]
  },
  {
   "cell_type": "code",
   "execution_count": 34,
   "metadata": {},
   "outputs": [
    {
     "name": "stdout",
     "output_type": "stream",
     "text": [
      "+-------+------+----------+------------------------------------------+------------------------------------------------------+----+\n",
      "|movieId|userId|rating    |title                                     |genres                                                |year|\n",
      "+-------+------+----------+------------------------------------------+------------------------------------------------------+----+\n",
      "|592    |148   |0.0795065 |Batman                                    |[Action, Crime, Thriller]                             |1989|\n",
      "|1097   |148   |0.07865931|E.T. the Extra-Terrestrial                |[Children, Drama, Sci-Fi]                             |1982|\n",
      "|1210   |148   |0.07499553|Star Wars: Episode VI - Return of the Jedi|[Action, Adventure, Sci-Fi]                           |1983|\n",
      "|587    |148   |0.07012619|Ghost                                     |[Comedy, Drama, Fantasy, Romance, Thriller]           |1990|\n",
      "|364    |148   |0.0689989 |Lion King, The                            |[Adventure, Animation, Children, Drama, Musical, IMAX]|1994|\n",
      "+-------+------+----------+------------------------------------------+------------------------------------------------------+----+\n",
      "\n"
     ]
    }
   ],
   "source": [
    "## Recommendations for user148\n",
    "nrecommendations.join(movies, on='movieId').filter('userId = 148').show(truncate=False)"
   ]
  },
  {
   "cell_type": "code",
   "execution_count": 35,
   "metadata": {},
   "outputs": [
    {
     "name": "stdout",
     "output_type": "stream",
     "text": [
      "+-------+------+------+-----------------------+-----------------------------+----+\n",
      "|movieId|userId|rating|title                  |genres                       |year|\n",
      "+-------+------+------+-----------------------+-----------------------------+----+\n",
      "|289    |148   |5     |Only You               |[Comedy, Romance]            |1994|\n",
      "|497    |148   |5     |Much Ado About Nothing |[Comedy, Romance]            |1993|\n",
      "|339    |148   |5     |While You Were Sleeping|[Comedy, Romance]            |1995|\n",
      "|356    |148   |5     |Forrest Gump           |[Comedy, Drama, Romance, War]|1994|\n",
      "|17     |148   |5     |Sense and Sensibility  |[Drama, Romance]             |1995|\n",
      "+-------+------+------+-----------------------+-----------------------------+----+\n",
      "\n"
     ]
    }
   ],
   "source": [
    "## Actual preferences for user148\n",
    "ratings.join(movies, on='movieId').filter('userId = 148').sort('rating', ascending=False).limit(5).show(truncate=False)"
   ]
  },
  {
   "cell_type": "code",
   "execution_count": 36,
   "metadata": {},
   "outputs": [
    {
     "name": "stdout",
     "output_type": "stream",
     "text": [
      "+-------+------+----------+-------------------------+------------------------+----+\n",
      "|movieId|userId|rating    |title                    |genres                  |year|\n",
      "+-------+------+----------+-------------------------+------------------------+----+\n",
      "|1580   |103126|0.67020917|Men in Black (a.k.a. MIB)|[Action, Comedy, Sci-Fi]|1997|\n",
      "|1580   |77287 |0.63944685|Men in Black (a.k.a. MIB)|[Action, Comedy, Sci-Fi]|1997|\n",
      "|1580   |5084  |0.62219054|Men in Black (a.k.a. MIB)|[Action, Comedy, Sci-Fi]|1997|\n",
      "|1580   |74628 |0.61091256|Men in Black (a.k.a. MIB)|[Action, Comedy, Sci-Fi]|1997|\n",
      "|1580   |101704|0.61050093|Men in Black (a.k.a. MIB)|[Action, Comedy, Sci-Fi]|1997|\n",
      "+-------+------+----------+-------------------------+------------------------+----+\n",
      "\n"
     ]
    }
   ],
   "source": [
    "## User Recommendations for movie1580\n",
    "nrecommendations2.join(movies, on='movieId').filter('movieId = 1580').show(truncate=False)"
   ]
  },
  {
   "cell_type": "code",
   "execution_count": 37,
   "metadata": {},
   "outputs": [
    {
     "name": "stdout",
     "output_type": "stream",
     "text": [
      "+-------+------+------+-------------------------------+---------------------------+----+\n",
      "|movieId|userId|rating|title                          |genres                     |year|\n",
      "+-------+------+------+-------------------------------+---------------------------+----+\n",
      "|3793   |25952 |5     |X-Men                          |[Action, Adventure, Sci-Fi]|2000|\n",
      "|3785   |25952 |5     |Scary Movie                    |[Comedy, Horror]           |2000|\n",
      "|3784   |25952 |5     |Kid, The                       |[Comedy, Fantasy]          |2000|\n",
      "|1221   |25952 |5     |Godfather: Part II, The        |[Crime, Drama]             |1974|\n",
      "|1193   |25952 |5     |One Flew Over the Cuckoo's Nest|[Drama]                    |1975|\n",
      "+-------+------+------+-------------------------------+---------------------------+----+\n",
      "\n"
     ]
    }
   ],
   "source": [
    "## Actual preferences for user25952\n",
    "ratings.join(movies, on='movieId').filter('userId = 25952').sort('rating', ascending=False).limit(5).show(truncate=False)"
   ]
  },
  {
   "cell_type": "code",
   "execution_count": 38,
   "metadata": {},
   "outputs": [
    {
     "name": "stdout",
     "output_type": "stream",
     "text": [
      "+-------+------+------+----------------------------------+---------------------------+----+\n",
      "|movieId|userId|rating|title                             |genres                     |year|\n",
      "+-------+------+------+----------------------------------+---------------------------+----+\n",
      "|16     |85616 |5     |Casino                            |[Crime, Drama]             |1995|\n",
      "|47     |85616 |5     |Seven (a.k.a. Se7en)              |[Mystery, Thriller]        |1995|\n",
      "|21     |85616 |5     |Get Shorty                        |[Comedy, Crime, Thriller]  |1995|\n",
      "|25     |85616 |5     |Leaving Las Vegas                 |[Drama, Romance]           |1995|\n",
      "|32     |85616 |5     |Twelve Monkeys (a.k.a. 12 Monkeys)|[Mystery, Sci-Fi, Thriller]|1995|\n",
      "+-------+------+------+----------------------------------+---------------------------+----+\n",
      "\n"
     ]
    }
   ],
   "source": [
    "## Actual preferences for user85616\n",
    "ratings.join(movies, on='movieId').filter('userId = 85616').sort('rating', ascending=False).limit(5).show(truncate=False)"
   ]
  },
  {
   "cell_type": "code",
   "execution_count": 39,
   "metadata": {},
   "outputs": [
    {
     "name": "stdout",
     "output_type": "stream",
     "text": [
      "+-------+------+------+------------+-----------------+----+\n",
      "|movieId|userId|rating|title       |genres           |year|\n",
      "+-------+------+------+------------+-----------------+----+\n",
      "|186    |114872|5     |Nine Months |[Comedy, Romance]|1995|\n",
      "|201    |114872|5     |Three Wishes|[Drama, Fantasy] |1995|\n",
      "|192    |114872|5     |Show, The   |[Documentary]    |1995|\n",
      "|69     |114872|5     |Friday      |[Comedy]         |1995|\n",
      "|194    |114872|5     |Smoke       |[Comedy, Drama]  |1995|\n",
      "+-------+------+------+------------+-----------------+----+\n",
      "\n"
     ]
    }
   ],
   "source": [
    "## Actual preferences for user114872\n",
    "ratings.join(movies, on='movieId').filter('userId = 114872').sort('rating', ascending=False).limit(5).show(truncate=False)"
   ]
  },
  {
   "cell_type": "code",
   "execution_count": 40,
   "metadata": {},
   "outputs": [
    {
     "name": "stdout",
     "output_type": "stream",
     "text": [
      "+-------+------+------+-------------------------------+-----------------------------+----+\n",
      "|movieId|userId|rating|title                          |genres                       |year|\n",
      "+-------+------+------+-------------------------------+-----------------------------+----+\n",
      "|47     |22517 |5     |Seven (a.k.a. Se7en)           |[Mystery, Thriller]          |1995|\n",
      "|231    |22517 |5     |Dumb & Dumber (Dumb and Dumber)|[Adventure, Comedy]          |1994|\n",
      "|104    |22517 |5     |Happy Gilmore                  |[Comedy]                     |1996|\n",
      "|10     |22517 |5     |GoldenEye                      |[Action, Adventure, Thriller]|1995|\n",
      "|110    |22517 |5     |Braveheart                     |[Action, Drama, War]         |1995|\n",
      "+-------+------+------+-------------------------------+-----------------------------+----+\n",
      "\n"
     ]
    }
   ],
   "source": [
    "## Actual preferences for user22517\n",
    "ratings.join(movies, on='movieId').filter('userId = 22517').sort('rating', ascending=False).limit(5).show(truncate=False)"
   ]
  },
  {
   "cell_type": "code",
   "execution_count": 41,
   "metadata": {},
   "outputs": [
    {
     "name": "stdout",
     "output_type": "stream",
     "text": [
      "+-------+------+------+----------------------------------+----------------------------------------+----+\n",
      "|movieId|userId|rating|title                             |genres                                  |year|\n",
      "+-------+------+------+----------------------------------+----------------------------------------+----+\n",
      "|260    |20253 |5     |Star Wars: Episode IV - A New Hope|[Action, Adventure, Sci-Fi]             |1977|\n",
      "|368    |20253 |5     |Maverick                          |[Adventure, Comedy, Western]            |1994|\n",
      "|292    |20253 |5     |Outbreak                          |[Action, Drama, Sci-Fi, Thriller]       |1995|\n",
      "|329    |20253 |5     |Star Trek: Generations            |[Adventure, Drama, Sci-Fi]              |1994|\n",
      "|145    |20253 |5     |Bad Boys                          |[Action, Comedy, Crime, Drama, Thriller]|1995|\n",
      "+-------+------+------+----------------------------------+----------------------------------------+----+\n",
      "\n"
     ]
    }
   ],
   "source": [
    "## Actual preferences for user20253\n",
    "ratings.join(movies, on='movieId').filter('userId = 20253').sort('rating', ascending=False).limit(5).show(truncate=False)"
   ]
  }
 ],
 "metadata": {
  "accelerator": "GPU",
  "colab": {
   "collapsed_sections": [],
   "name": "MovieLensProject_ModelBuilding_CollaborativeFilt.ipynb",
   "provenance": []
  },
  "kernelspec": {
   "display_name": "DS 5110 Spark 3.1",
   "language": "python",
   "name": "ds5110_spark3.1"
  },
  "language_info": {
   "codemirror_mode": {
    "name": "ipython",
    "version": 3
   },
   "file_extension": ".py",
   "mimetype": "text/x-python",
   "name": "python",
   "nbconvert_exporter": "python",
   "pygments_lexer": "ipython3",
   "version": "3.7.10"
  }
 },
 "nbformat": 4,
 "nbformat_minor": 4
}
