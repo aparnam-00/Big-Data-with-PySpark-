{
 "cells": [
  {
   "cell_type": "markdown",
   "metadata": {
    "id": "de39rO2w6sZO"
   },
   "source": [
    "# Building a Recommendation System for the MovieLens Dataset - Content Based Filtering"
   ]
  },
  {
   "cell_type": "markdown",
   "metadata": {
    "id": "a8wOiSRQ6sZS"
   },
   "source": [
    "Nick Pasternak (nfp5ga), Kara Fallin (kmf4tg), Aparna Marathe (am7ad)"
   ]
  },
  {
   "cell_type": "markdown",
   "metadata": {},
   "source": [
    "In this notebook, we load and process the data again. Since we are using movie metadata (release year, IMDB score, genres, category, movie description) to predict user ratings for this model, we had to use feature engineering. We cleaned, hashed, and vectorized the genres, category, and movie description variables and then assembled all five predictors into a features column to predict user ratings. Since our dataset contains 20 million rows, we took a 5% sample before doing a 70/30 train-test split. However, in this case the split was not random; we essentially split the training and testing sets so that each movie was in either one but not both. Then we proceeded to build our content-based filtering model, utilizing linear regression. We used 3-fold cross validation for tuning and evaluated the model using RMSE and also the actual movie predictions for a given user. After building and evaluating all three models, we then compared RMSE values and movie predictions to determine the best overall model."
   ]
  },
  {
   "cell_type": "code",
   "execution_count": 1,
   "metadata": {
    "id": "ZQKAG8AQ6sZT"
   },
   "outputs": [],
   "source": [
    "import pyspark\n",
    "import os\n",
    "import numpy as np\n",
    "import pyspark.sql.types as typ\n",
    "import pyspark.sql.functions as F\n",
    "from pyspark.sql.functions import col, asc, desc, split, regexp_extract, explode\n",
    "from pyspark.mllib import recommendation\n",
    "from pyspark.mllib.recommendation import *\n",
    "from pyspark.ml.evaluation import RegressionEvaluator\n",
    "from pyspark.ml.recommendation import ALS\n",
    "from pyspark.sql import Row\n",
    "from pyspark.sql.types import IntegerType, FloatType\n",
    "from pyspark.ml import Pipeline\n",
    "from pyspark.ml.tuning import CrossValidator, ParamGridBuilder"
   ]
  },
  {
   "cell_type": "code",
   "execution_count": 2,
   "metadata": {
    "id": "o8FSQgZT6sZU"
   },
   "outputs": [],
   "source": [
    "from pyspark.sql import SparkSession\n",
    "\n",
    "spark = SparkSession \\\n",
    "    .builder \\\n",
    "    .master(\"local\") \\\n",
    "    .appName(\"data preprocessing\") \\\n",
    "    .config(\"spark.executor.memory\", '250g') \\\n",
    "    .config('spark.executor.cores', '8') \\\n",
    "    .config('spark.cores.max', '8') \\\n",
    "    .config(\"spark.driver.memory\",'250g') \\\n",
    "    .getOrCreate()\n",
    "\n",
    "sc = spark.sparkContext"
   ]
  },
  {
   "cell_type": "code",
   "execution_count": 3,
   "metadata": {
    "colab": {
     "base_uri": "https://localhost:8080/",
     "height": 35
    },
    "id": "LVHx0BTJ6sZV",
    "outputId": "584c63a1-2523-40cf-a110-67283d5ac17a"
   },
   "outputs": [
    {
     "data": {
      "text/plain": [
       "'/project/ds5559/group10_reviews'"
      ]
     },
     "execution_count": 3,
     "metadata": {},
     "output_type": "execute_result"
    }
   ],
   "source": [
    "os.chdir('/project/ds5559/group10_reviews')\n",
    "os.getcwd()"
   ]
  },
  {
   "cell_type": "markdown",
   "metadata": {
    "id": "km2vNihi6sZW"
   },
   "source": [
    "## Load the data"
   ]
  },
  {
   "cell_type": "markdown",
   "metadata": {
    "id": "fGyLYdUD6sZZ"
   },
   "source": [
    "### Movie links: links to imdb website \n",
    "\n",
    "(https://www.imdb.com/title/tt0 + imdbId + /?ref_=fn_al_tt_1)"
   ]
  },
  {
   "cell_type": "code",
   "execution_count": 4,
   "metadata": {
    "id": "kb7zkn_T6sZa"
   },
   "outputs": [],
   "source": [
    "links = spark.read.csv(\"/project/ds5559/group10_reviews/link.csv\", header=True)"
   ]
  },
  {
   "cell_type": "markdown",
   "metadata": {
    "id": "89Y6KNLz6sZa"
   },
   "source": [
    "### Movies"
   ]
  },
  {
   "cell_type": "code",
   "execution_count": 5,
   "metadata": {
    "id": "Su04H4Q66sZb"
   },
   "outputs": [],
   "source": [
    "movies = spark.read.csv(\"/project/ds5559/group10_reviews/movie.csv\", header=True)\n",
    "movies = movies.withColumn('genres',split(col('genres'),\"[|]\"))\n",
    "movies = movies.withColumn('year',regexp_extract('title', r'(.*)\\((\\d+)\\)', 2))\n",
    "movies = movies.withColumn('title',regexp_extract('title', r'(.*) \\((\\d+)\\)', 1))"
   ]
  },
  {
   "cell_type": "markdown",
   "metadata": {
    "id": "FN1lAWgP6sZb"
   },
   "source": [
    "### User ratings"
   ]
  },
  {
   "cell_type": "code",
   "execution_count": 6,
   "metadata": {
    "id": "YUBdvJNE6sZb"
   },
   "outputs": [],
   "source": [
    "ratings = spark.read.csv(\"/project/ds5559/group10_reviews/rating.csv\", header=True).drop('timestamp')"
   ]
  },
  {
   "cell_type": "markdown",
   "metadata": {
    "id": "fkvdlKbE6sZd"
   },
   "source": [
    "-----------"
   ]
  },
  {
   "cell_type": "markdown",
   "metadata": {
    "id": "yoioEVXh6sZd"
   },
   "source": [
    "## Process the data"
   ]
  },
  {
   "cell_type": "markdown",
   "metadata": {
    "id": "v3neFr6OGesT"
   },
   "source": [
    "### Merge existing data"
   ]
  },
  {
   "cell_type": "code",
   "execution_count": 7,
   "metadata": {
    "id": "_BLCnPOZ6sZd",
    "outputId": "3ed07151-fbf0-4b09-c329-f8c049fe6e92"
   },
   "outputs": [
    {
     "name": "stdout",
     "output_type": "stream",
     "text": [
      "+-------+------+------+--------------------+--------------------+----+--------+-----+--------------------+\n",
      "|movieId|userId|rating|               title|              genres|year|category|score|         description|\n",
      "+-------+------+------+--------------------+--------------------+----+--------+-----+--------------------+\n",
      "|      2|     1|   3.5|             Jumanji|[Adventure, Child...|1995|      PG|  7.0|Jumanji, one of t...|\n",
      "|     29|     1|   3.5|City of Lost Chil...|[Adventure, Drama...|1995|       R|  7.5|Set in a dystopia...|\n",
      "|     32|     1|   3.5|Twelve Monkeys (a...|[Mystery, Sci-Fi,...|1995|       R|  8.0|James Cole, a pri...|\n",
      "|     47|     1|   3.5|Seven (a.k.a. Se7en)| [Mystery, Thriller]|1995|       R|  8.6|A film about two ...|\n",
      "|     50|     1|   3.5| Usual Suspects, The|[Crime, Mystery, ...|1995|       R|  8.5|Following a truck...|\n",
      "|    112|     1|   3.5|Rumble in the Bro...|[Action, Adventur...|1995|       R|  6.7|Keong comes from ...|\n",
      "|    151|     1|     4|             Rob Roy|[Action, Drama, R...|1995|       R|  6.9|In the highlands ...|\n",
      "|    223|     1|     4|              Clerks|            [Comedy]|1994|       R|  7.7|Dante Hicks is no...|\n",
      "|    253|     1|     4|Interview with th...|     [Drama, Horror]|1994|       R|  7.5|Against the backd...|\n",
      "|    260|     1|     4|Star Wars: Episod...|[Action, Adventur...|1977|      PG|  8.6|The Imperial Forc...|\n",
      "|    293|     1|     4|Léon: The Profess...|[Action, Crime, D...|1994|       R|  8.6|After her father,...|\n",
      "|    296|     1|     4|        Pulp Fiction|[Comedy, Crime, D...|1994|       R|  8.9|   Jules Winnfield (|\n",
      "|    318|     1|     4|Shawshank Redempt...|      [Crime, Drama]|1994|       R|  9.3|Chronicles the ex...|\n",
      "|    337|     1|   3.5|What's Eating Gil...|             [Drama]|1993|   PG-13|  7.8|What's Eating Gib...|\n",
      "|    367|     1|   3.5|           Mask, The|[Action, Comedy, ...|1994|   PG-13|  6.9|Timid bank clerk,...|\n",
      "|    541|     1|     4|        Blade Runner|[Action, Sci-Fi, ...|1982|       R|  8.1|\"In the early twe...|\n",
      "|    589|     1|   3.5|Terminator 2: Jud...|    [Action, Sci-Fi]|1991|       R|  8.6|Over 10 years hav...|\n",
      "|    593|     1|   3.5|Silence of the La...|[Crime, Horror, T...|1991|       R|  8.6|\"F.B.I. trainee C...|\n",
      "|    653|     1|     3|         Dragonheart|[Action, Adventur...|1996|   PG-13|  6.4|\"The young, sickl...|\n",
      "|    919|     1|   3.5|   Wizard of Oz, The|[Adventure, Child...|1939|       G|  8.1|When a tornado ri...|\n",
      "+-------+------+------+--------------------+--------------------+----+--------+-----+--------------------+\n",
      "only showing top 20 rows\n",
      "\n"
     ]
    }
   ],
   "source": [
    "df1 = ratings.join(movies,on=\"movieId\",how=\"inner\")\n",
    "\n",
    "df2 = df1.join(links,on=['movieId'],how='inner').drop('tmdbId')\n",
    "\n",
    "scrape = spark.read.csv(\"/project/ds5559/group10_reviews/movie_scrape.csv\", header=True)\n",
    "scrape = scrape.drop('title','year', 'genres')\n",
    "\n",
    "df = df2.join(scrape,on='imdbId',how='inner')\n",
    "df = df.drop('imdbId')\n",
    "df.show()"
   ]
  },
  {
   "cell_type": "code",
   "execution_count": 8,
   "metadata": {
    "id": "_ase1nX4obNX"
   },
   "outputs": [],
   "source": [
    "df = df.withColumn('movieId', col('movieId').cast(IntegerType()))\n",
    "df = df.withColumn('userId', col('userId').cast(IntegerType()))\n",
    "df = df.withColumn('rating', col('rating').cast(FloatType()))\n",
    "df = df.withColumn('year', col('year').cast(IntegerType()))\n",
    "df = df.withColumn('score', col('score').cast(FloatType()))"
   ]
  },
  {
   "cell_type": "code",
   "execution_count": 9,
   "metadata": {
    "id": "Y8fBpedAobNY",
    "outputId": "5d8d79a0-464d-4c1d-c126-8ca41657e23a"
   },
   "outputs": [
    {
     "name": "stdout",
     "output_type": "stream",
     "text": [
      "root\n",
      " |-- movieId: integer (nullable = true)\n",
      " |-- userId: integer (nullable = true)\n",
      " |-- rating: float (nullable = true)\n",
      " |-- title: string (nullable = true)\n",
      " |-- genres: array (nullable = true)\n",
      " |    |-- element: string (containsNull = true)\n",
      " |-- year: integer (nullable = true)\n",
      " |-- category: string (nullable = true)\n",
      " |-- score: float (nullable = true)\n",
      " |-- description: string (nullable = true)\n",
      "\n"
     ]
    }
   ],
   "source": [
    "df.printSchema()"
   ]
  },
  {
   "cell_type": "code",
   "execution_count": 10,
   "metadata": {
    "id": "h_-MIUAKobNY",
    "outputId": "b9387aa7-572a-4310-9d05-c89d0a37f3ca"
   },
   "outputs": [
    {
     "data": {
      "text/plain": [
       "20000263"
      ]
     },
     "execution_count": 10,
     "metadata": {},
     "output_type": "execute_result"
    }
   ],
   "source": [
    "df.count()"
   ]
  },
  {
   "cell_type": "code",
   "execution_count": 11,
   "metadata": {},
   "outputs": [
    {
     "name": "stdout",
     "output_type": "stream",
     "text": [
      "root\n",
      " |-- movieId: integer (nullable = true)\n",
      " |-- userId: integer (nullable = true)\n",
      " |-- rating: float (nullable = true)\n",
      " |-- title: string (nullable = true)\n",
      " |-- genres: array (nullable = true)\n",
      " |    |-- element: string (containsNull = true)\n",
      " |-- year: integer (nullable = true)\n",
      " |-- category: string (nullable = true)\n",
      " |-- score: float (nullable = true)\n",
      " |-- description: string (nullable = true)\n",
      "\n"
     ]
    }
   ],
   "source": [
    "df = df.na.drop()\n",
    "df.printSchema()"
   ]
  },
  {
   "cell_type": "code",
   "execution_count": 12,
   "metadata": {},
   "outputs": [
    {
     "data": {
      "text/plain": [
       "19809344"
      ]
     },
     "execution_count": 12,
     "metadata": {},
     "output_type": "execute_result"
    }
   ],
   "source": [
    "df.count()"
   ]
  },
  {
   "cell_type": "markdown",
   "metadata": {
    "id": "1af0SQ4FGt3L"
   },
   "source": [
    "----------------------"
   ]
  },
  {
   "cell_type": "markdown",
   "metadata": {
    "id": "lDEhXdB4G77s"
   },
   "source": [
    "## Build the content-based filtering model\n",
    "Recommending movies (predicting ratings) based on genres, release date, category, IMDB score, and plot summary "
   ]
  },
  {
   "cell_type": "markdown",
   "metadata": {
    "id": "9FkERuSCobNZ"
   },
   "source": [
    "1. Clean genres column: vectorize via TF-IDF\n",
    "2. Clean category column: index and then vectorize via one-hot encoding\n",
    "3. Clean and vectorize description column: convert to lower case, remove puncuation and stopwords, and then vectorize via TF-IDF\n",
    "4. Use VectorAssembler to combine all 5 predictors into a \"features\" column to ultimately predict rating via linear regression"
   ]
  },
  {
   "cell_type": "code",
   "execution_count": 13,
   "metadata": {
    "id": "LS6XifvMobNZ"
   },
   "outputs": [],
   "source": [
    "seed=314"
   ]
  },
  {
   "cell_type": "code",
   "execution_count": 14,
   "metadata": {
    "id": "CFhyfHMcobNZ",
    "outputId": "e616c690-6082-4249-eaf5-1d4135410e3b"
   },
   "outputs": [
    {
     "data": {
      "text/plain": [
       "991777"
      ]
     },
     "execution_count": 14,
     "metadata": {},
     "output_type": "execute_result"
    }
   ],
   "source": [
    "df_red = df.sample(fraction=0.05, seed=seed)\n",
    "df_red.count()"
   ]
  },
  {
   "cell_type": "markdown",
   "metadata": {
    "id": "HroC_0AgobNb"
   },
   "source": [
    "### Clean genres column"
   ]
  },
  {
   "cell_type": "code",
   "execution_count": 15,
   "metadata": {
    "id": "cxuM003sobNc",
    "outputId": "6bf50da9-2e81-4321-818f-e45ba97adc68"
   },
   "outputs": [],
   "source": [
    "from pyspark.ml.feature import HashingTF, IDF, Tokenizer\n",
    "hashingTF = HashingTF(inputCol=\"genres\", outputCol=\"rawGenres\")\n",
    "featurizedData = hashingTF.transform(df_red)\n",
    "\n",
    "idf = IDF(inputCol=\"rawGenres\", outputCol=\"vectorizedGenres\")\n",
    "idfModel = idf.fit(featurizedData)\n",
    "df1 = idfModel.transform(featurizedData)"
   ]
  },
  {
   "cell_type": "markdown",
   "metadata": {
    "id": "ELUrDTqNobNc"
   },
   "source": [
    "### Clean category column"
   ]
  },
  {
   "cell_type": "code",
   "execution_count": 16,
   "metadata": {
    "id": "FPvkVZZtobNc",
    "outputId": "727512b4-eae5-48f1-8600-1118389a3407"
   },
   "outputs": [],
   "source": [
    "from pyspark.ml.feature import OneHotEncoder, StringIndexer\n",
    "stringIndexer = StringIndexer(inputCol=\"category\", outputCol=\"indexedCategory\")\n",
    "indexedModel = stringIndexer.fit(df1)\n",
    "indexed = indexedModel.transform(df1)\n",
    "\n",
    "encoder = OneHotEncoder(inputCol=\"indexedCategory\", outputCol=\"vectorizedCategory\")\n",
    "encodedModel = encoder.fit(indexed)\n",
    "df2 = encodedModel.transform(indexed)"
   ]
  },
  {
   "cell_type": "markdown",
   "metadata": {
    "id": "iIpRT_joobNd"
   },
   "source": [
    "### Clean description column"
   ]
  },
  {
   "cell_type": "code",
   "execution_count": 17,
   "metadata": {
    "id": "0WxtcZDDobNd"
   },
   "outputs": [],
   "source": [
    "from pyspark.sql.functions import regexp_replace, lower\n",
    "from pyspark.ml.feature import StopWordsRemover\n",
    "df2 = df2.withColumn(\"description\",lower(regexp_replace(col(\"description\"), \"[^a-zA-Z0-9 ]+\", \"\")))\n",
    "\n",
    "tokenizer = Tokenizer(inputCol=\"description\", outputCol=\"tokenizedDescription\")\n",
    "tokenized = tokenizer.transform(df2)\n",
    "\n",
    "remover = StopWordsRemover(inputCol=\"tokenizedDescription\", outputCol=\"filteredDescription\")\n",
    "removedData = remover.transform(tokenized)\n",
    "\n",
    "hashingTF2 = HashingTF(inputCol=\"filteredDescription\", outputCol=\"rawDescription\")\n",
    "featurizedData2 = hashingTF2.transform(removedData)\n",
    "\n",
    "idf2 = IDF(inputCol=\"rawDescription\", outputCol=\"vectorizedDescription\")\n",
    "idfModel2 = idf2.fit(featurizedData2)\n",
    "df3 = idfModel2.transform(featurizedData2)"
   ]
  },
  {
   "cell_type": "markdown",
   "metadata": {
    "id": "OYcPB93ZobNe"
   },
   "source": [
    "### Assemble features"
   ]
  },
  {
   "cell_type": "code",
   "execution_count": 18,
   "metadata": {
    "id": "fn_xvVHnobNe"
   },
   "outputs": [],
   "source": [
    "from pyspark.ml.feature import VectorAssembler\n",
    "assembler = VectorAssembler(inputCols=[\"vectorizedGenres\", \"year\", \"vectorizedCategory\", \"score\", \"vectorizedDescription\"], outputCol=\"features\")\n",
    "output = assembler.transform(df3)"
   ]
  },
  {
   "cell_type": "markdown",
   "metadata": {
    "id": "F-kTTqofobNf"
   },
   "source": [
    "### Predict movie rating via LinearRegression"
   ]
  },
  {
   "cell_type": "code",
   "execution_count": 19,
   "metadata": {
    "id": "yD_ewHg4obNf"
   },
   "outputs": [],
   "source": [
    "#training, test = output.randomSplit([0.7, 0.3], seed=seed)\n",
    "#training.cache()"
   ]
  },
  {
   "cell_type": "code",
   "execution_count": 20,
   "metadata": {},
   "outputs": [],
   "source": [
    "n = output.count()"
   ]
  },
  {
   "cell_type": "code",
   "execution_count": 21,
   "metadata": {},
   "outputs": [
    {
     "name": "stdout",
     "output_type": "stream",
     "text": [
      "training size:  694243.8999999999\n",
      "test size:  297533.1\n"
     ]
    }
   ],
   "source": [
    "print(\"training size: \", n*0.70)\n",
    "print(\"test size: \", n*0.30)"
   ]
  },
  {
   "cell_type": "code",
   "execution_count": 22,
   "metadata": {},
   "outputs": [
    {
     "data": {
      "text/plain": [
       "DataFrame[movieId: int, userId: int, rating: float, title: string, genres: array<string>, year: int, category: string, score: float, description: string, rawGenres: vector, vectorizedGenres: vector, indexedCategory: double, vectorizedCategory: vector, tokenizedDescription: array<string>, filteredDescription: array<string>, rawDescription: vector, vectorizedDescription: vector, features: vector]"
      ]
     },
     "execution_count": 22,
     "metadata": {},
     "output_type": "execute_result"
    }
   ],
   "source": [
    "training = output.sort(col(\"movieId\"), ascending=True).limit(694243)\n",
    "training.cache()\n",
    "test = output.subtract(training)\n",
    "test.cache()"
   ]
  },
  {
   "cell_type": "code",
   "execution_count": 23,
   "metadata": {},
   "outputs": [
    {
     "name": "stdout",
     "output_type": "stream",
     "text": [
      "612.6124124526978\n"
     ]
    }
   ],
   "source": [
    "# Build the recommendation model using LinearRegression on the training data\n",
    "from pyspark.ml.regression import LinearRegression\n",
    "lr = LinearRegression(featuresCol='features', labelCol='rating', maxIter=10, regParam=0.3, elasticNetParam=0.8)\n",
    "\n",
    "import time\n",
    "t = time.time()\n",
    "lrModel = lr.fit(training)\n",
    "print(time.time() - t)"
   ]
  },
  {
   "cell_type": "code",
   "execution_count": 24,
   "metadata": {
    "id": "jASPGKGdobNf"
   },
   "outputs": [
    {
     "name": "stdout",
     "output_type": "stream",
     "text": [
      "Root-mean-square error is 0.9628164436096527\n"
     ]
    }
   ],
   "source": [
    "# Evaluate the model by computing the RMSE on the test data\n",
    "predictions = lrModel.transform(test)\n",
    "evaluator = RegressionEvaluator(metricName=\"rmse\", labelCol=\"rating\", predictionCol=\"prediction\")\n",
    "rmse = evaluator.evaluate(predictions)\n",
    "print(\"Root-mean-square error is {}\".format(rmse))"
   ]
  },
  {
   "cell_type": "code",
   "execution_count": 25,
   "metadata": {},
   "outputs": [],
   "source": [
    "lr = LinearRegression(featuresCol='features', labelCol='rating', maxIter=10)"
   ]
  },
  {
   "cell_type": "code",
   "execution_count": 26,
   "metadata": {
    "id": "ky5CsI9oobNf"
   },
   "outputs": [
    {
     "name": "stdout",
     "output_type": "stream",
     "text": [
      "1118.3464393615723\n"
     ]
    }
   ],
   "source": [
    "## Tuning with CrossValidator\n",
    "paramMap = ParamGridBuilder() \\\n",
    "            .addGrid(lr.regParam, [0.1, 0.3, 0.5]) \\\n",
    "            .addGrid(lr.elasticNetParam, [0, 0.2, 0.5, 0.8, 1]).build()\n",
    "\n",
    "\n",
    "evaluatorR = RegressionEvaluator(metricName=\"rmse\", labelCol=\"rating\")\n",
    "\n",
    "\n",
    "CVALS = CrossValidator(estimator=lr,\n",
    "                       estimatorParamMaps=paramMap,\n",
    "                       evaluator=evaluatorR,\n",
    "                       numFolds=3)\n",
    "\n",
    "t1 = time.time()\n",
    "CVModel = CVALS.setParallelism(4).fit(training)\n",
    "print(time.time() - t1)"
   ]
  },
  {
   "cell_type": "code",
   "execution_count": 27,
   "metadata": {},
   "outputs": [
    {
     "data": {
      "text/plain": [
       "0.3"
      ]
     },
     "execution_count": 27,
     "metadata": {},
     "output_type": "execute_result"
    }
   ],
   "source": [
    "CVModel.bestModel._java_obj.parent().getRegParam()"
   ]
  },
  {
   "cell_type": "code",
   "execution_count": 28,
   "metadata": {},
   "outputs": [
    {
     "data": {
      "text/plain": [
       "0.0"
      ]
     },
     "execution_count": 28,
     "metadata": {},
     "output_type": "execute_result"
    }
   ],
   "source": [
    "CVModel.bestModel._java_obj.parent().getElasticNetParam()"
   ]
  },
  {
   "cell_type": "code",
   "execution_count": 29,
   "metadata": {},
   "outputs": [],
   "source": [
    "model = CVModel.bestModel"
   ]
  },
  {
   "cell_type": "code",
   "execution_count": 30,
   "metadata": {},
   "outputs": [
    {
     "name": "stdout",
     "output_type": "stream",
     "text": [
      "Root-mean-square error is 1.0792119780218898\n"
     ]
    }
   ],
   "source": [
    "preds = model.transform(test)\n",
    "evaluator = RegressionEvaluator(metricName=\"rmse\", labelCol=\"rating\", predictionCol=\"prediction\")\n",
    "rmse = evaluator.evaluate(preds)\n",
    "print(\"Root-mean-square error is {}\".format(rmse))"
   ]
  },
  {
   "cell_type": "code",
   "execution_count": 31,
   "metadata": {},
   "outputs": [],
   "source": [
    "preds_final = preds.select(\"movieID\",\"userID\",\"rating\",\"title\",\"genres\",\"year\",\"category\",\"score\",\"description\",\"prediction\")"
   ]
  },
  {
   "cell_type": "code",
   "execution_count": 32,
   "metadata": {},
   "outputs": [
    {
     "name": "stdout",
     "output_type": "stream",
     "text": [
      "+-------+------+------+--------------------+--------------------+----+--------+-----+--------------------+------------------+\n",
      "|movieID|userID|rating|               title|              genres|year|category|score|         description|        prediction|\n",
      "+-------+------+------+--------------------+--------------------+----+--------+-----+--------------------+------------------+\n",
      "|   4366| 94972|   2.0|Atlantis: The Los...|[Adventure, Anima...|2001|      PG|  6.9|1914 milo thatch ...|3.4205452648858246|\n",
      "|   6027| 43457|   4.5|            Dogfight|    [Drama, Romance]|1991|       R|  7.4|in 1963 the night...|3.5500877317096413|\n",
      "|  33912|  8963|   3.5| Unmarried Woman, An|[Comedy, Drama, R...|1978|       R|  7.1|erica is unmarrie...|3.1085281100785727|\n",
      "|   3994| 96946|   5.0|         Unbreakable|     [Drama, Sci-Fi]|2000|   PG-13|  7.3|david dunn willis...|  3.45743837019414|\n",
      "|   3996|  4847|   2.5|Crouching Tiger, ...|[Action, Drama, R...|2000|   PG-13|  7.9|in early nineteen...| 3.253817576873329|\n",
      "|   4039| 27050|   1.0|               Annie| [Children, Musical]|1982|      PG|  6.6|in the depths of ...| 3.263937985476699|\n",
      "|   4344|100886|   2.5|           Swordfish|[Action, Crime, D...|2001|       R|  6.5|when the dea shut...| 3.056075452933663|\n",
      "|   8782| 38445|   0.5|        Thunderbirds|[Action, Adventur...|2004|      PG|  4.3|the year is 2010 ...|3.3568523355573037|\n",
      "|  51662| 64135|   4.0|                 300|[Action, Fantasy,...|2007|       R|  7.6|in the battle of ...| 4.744162689078729|\n",
      "|  59725| 67283|   4.0|    Sex and the City|   [Comedy, Romance]|2008|       R|  5.7|after moving in t...|3.2216364438168084|\n",
      "+-------+------+------+--------------------+--------------------+----+--------+-----+--------------------+------------------+\n",
      "only showing top 10 rows\n",
      "\n"
     ]
    }
   ],
   "source": [
    "preds_final.show(10)"
   ]
  },
  {
   "cell_type": "code",
   "execution_count": 33,
   "metadata": {},
   "outputs": [
    {
     "name": "stdout",
     "output_type": "stream",
     "text": [
      "+-------+------+------+-----+------+----+--------+-----+-----------+----------+\n",
      "|movieID|userID|rating|title|genres|year|category|score|description|prediction|\n",
      "+-------+------+------+-----+------+----+--------+-----+-----------+----------+\n",
      "+-------+------+------+-----+------+----+--------+-----+-----------+----------+\n",
      "\n"
     ]
    }
   ],
   "source": [
    "## Recommendations for user463\n",
    "preds_final.filter('userId = 463').sort('prediction', ascending=False).limit(5).show()"
   ]
  },
  {
   "cell_type": "code",
   "execution_count": 34,
   "metadata": {},
   "outputs": [
    {
     "name": "stdout",
     "output_type": "stream",
     "text": [
      "+-------+------+------+--------------------+--------------------+----+--------+-----+--------------------+\n",
      "|movieId|userId|rating|               title|              genres|year|category|score|         description|\n",
      "+-------+------+------+--------------------+--------------------+----+--------+-----+--------------------+\n",
      "|     47|   463|   5.0|Seven (a.k.a. Se7en)| [Mystery, Thriller]|1995|       R|  8.6|A film about two ...|\n",
      "|    281|   463|   5.0|       Nobody's Fool|[Comedy, Drama, R...|1994|       R|  7.3|Sully is a rascal...|\n",
      "|    150|   463|   5.0|           Apollo 13|[Adventure, Drama...|1995|      PG|  7.7|\"Based on the tru...|\n",
      "|     17|   463|   5.0|Sense and Sensibi...|    [Drama, Romance]|1995|      PG|  7.7|When Mr. Dashwood...|\n",
      "|    265|   463|   5.0|Like Water for Ch...|[Drama, Fantasy, ...|1992|       R|  7.1|In a forgotten Me...|\n",
      "+-------+------+------+--------------------+--------------------+----+--------+-----+--------------------+\n",
      "\n"
     ]
    }
   ],
   "source": [
    "## Actual preferences for user463\n",
    "df.filter('userId = 463').sort('rating', ascending=False).limit(5).show()"
   ]
  },
  {
   "cell_type": "code",
   "execution_count": 35,
   "metadata": {},
   "outputs": [
    {
     "name": "stdout",
     "output_type": "stream",
     "text": [
      "+-------+------+------+--------------------+--------------------+----+--------+-----+--------------------+------------------+\n",
      "|movieID|userID|rating|               title|              genres|year|category|score|         description|        prediction|\n",
      "+-------+------+------+--------------------+--------------------+----+--------+-----+--------------------+------------------+\n",
      "|   8533|   318|   2.0|       Notebook, The|    [Drama, Romance]|2004|   PG-13|  7.8|in a nursing home...|3.7191656579595653|\n",
      "|  63082|   318|   5.0| Slumdog Millionaire|[Crime, Drama, Ro...|2008|       R|  8.0|the story of jama...|3.6994560227567357|\n",
      "|  27311|   318|   4.0|Batman Beyond: Re...|[Action, Animatio...|2000|    2000|  7.7|while trying to u...|3.4999464087178707|\n",
      "|  48394|   318|   4.0|Pan's Labyrinth (...|[Drama, Fantasy, ...|2006|       R|  8.2|in 1944 falangist...| 3.494974123990354|\n",
      "|  90866|   318|   5.0|                Hugo|[Children, Drama,...|2011|      PG|  7.5|hugo is an orphan...|3.4844417179165728|\n",
      "+-------+------+------+--------------------+--------------------+----+--------+-----+--------------------+------------------+\n",
      "\n"
     ]
    }
   ],
   "source": [
    "## Recommendations for user318\n",
    "preds_final.filter('userId = 318').sort('prediction', ascending=False).limit(5).show()"
   ]
  },
  {
   "cell_type": "code",
   "execution_count": 36,
   "metadata": {},
   "outputs": [
    {
     "name": "stdout",
     "output_type": "stream",
     "text": [
      "+-------+------+------+--------------------+--------------------+----+--------+-----+--------------------+\n",
      "|movieId|userId|rating|               title|              genres|year|category|score|         description|\n",
      "+-------+------+------+--------------------+--------------------+----+--------+-----+--------------------+\n",
      "|      1|   318|   5.0|           Toy Story|[Adventure, Anima...|1995|       G|  8.3|\"A little boy nam...|\n",
      "|    589|   318|   5.0|Terminator 2: Jud...|    [Action, Sci-Fi]|1991|       R|  8.6|Over 10 years hav...|\n",
      "|   1201|   318|   5.0|Good, the Bad and...|[Action, Adventur...|1966|       R|  8.8|Blondie, The Good...|\n",
      "|   1080|   318|   5.0|Monty Python's Li...|            [Comedy]|1979|       R|  8.1|The story of Bria...|\n",
      "|   1136|   318|   5.0|Monty Python and ...|[Adventure, Comed...|1975|      PG|  8.2|History is turned...|\n",
      "+-------+------+------+--------------------+--------------------+----+--------+-----+--------------------+\n",
      "\n"
     ]
    }
   ],
   "source": [
    "## Actual preferences for user318\n",
    "df.filter('userId = 318').sort('rating', ascending=False).limit(5).show()"
   ]
  },
  {
   "cell_type": "code",
   "execution_count": 37,
   "metadata": {},
   "outputs": [
    {
     "name": "stdout",
     "output_type": "stream",
     "text": [
      "+-------+------+------+--------------------+--------------------+----+--------+-----+--------------------+------------------+\n",
      "|movieID|userID|rating|               title|              genres|year|category|score|         description|        prediction|\n",
      "+-------+------+------+--------------------+--------------------+----+--------+-----+--------------------+------------------+\n",
      "|   4356|   148|   4.0|Gentlemen Prefer ...|[Comedy, Musical,...|1953|Approved|  7.1|lorelei and dorot...|3.5390345525101425|\n",
      "|   4062|   148|   4.0|        Mystic Pizza|[Comedy, Drama, R...|1988|       R|  6.3|sisters kat and d...| 3.250548629806492|\n",
      "+-------+------+------+--------------------+--------------------+----+--------+-----+--------------------+------------------+\n",
      "\n"
     ]
    }
   ],
   "source": [
    "## Recommendations for user148\n",
    "preds_final.filter('userId = 148').sort('prediction', ascending=False).limit(5).show()"
   ]
  },
  {
   "cell_type": "code",
   "execution_count": 38,
   "metadata": {},
   "outputs": [
    {
     "name": "stdout",
     "output_type": "stream",
     "text": [
      "+-------+------+------+--------------------+--------------------+----+--------+-----+--------------------+\n",
      "|movieId|userId|rating|               title|              genres|year|category|score|         description|\n",
      "+-------+------+------+--------------------+--------------------+----+--------+-----+--------------------+\n",
      "|    289|   148|   5.0|            Only You|   [Comedy, Romance]|1994|      PG|  6.5|\"Destiny. Faith (...|\n",
      "|    497|   148|   5.0|Much Ado About No...|   [Comedy, Romance]|1993|   PG-13|  7.3|\"Young lovers Her...|\n",
      "|    339|   148|   5.0|While You Were Sl...|   [Comedy, Romance]|1995|      PG|  6.8|\"Nursing a secret...|\n",
      "|    356|   148|   5.0|        Forrest Gump|[Comedy, Drama, R...|1994|   PG-13|  8.8|Forrest Gump is a...|\n",
      "|     17|   148|   5.0|Sense and Sensibi...|    [Drama, Romance]|1995|      PG|  7.7|When Mr. Dashwood...|\n",
      "+-------+------+------+--------------------+--------------------+----+--------+-----+--------------------+\n",
      "\n"
     ]
    }
   ],
   "source": [
    "## Actual preferences for user148\n",
    "df.filter('userId = 148').sort('rating', ascending=False).limit(5).show()"
   ]
  },
  {
   "cell_type": "code",
   "execution_count": 39,
   "metadata": {},
   "outputs": [
    {
     "name": "stdout",
     "output_type": "stream",
     "text": [
      "+-------+------+------+-----+------+----+--------+-----+-----------+----------+\n",
      "|movieID|userID|rating|title|genres|year|category|score|description|prediction|\n",
      "+-------+------+------+-----+------+----+--------+-----+-----------+----------+\n",
      "+-------+------+------+-----+------+----+--------+-----+-----------+----------+\n",
      "\n"
     ]
    }
   ],
   "source": [
    "## User Recommendations for movie1580\n",
    "preds_final.filter('movieId = 1580').sort('prediction', ascending=False).limit(5).show()"
   ]
  },
  {
   "cell_type": "code",
   "execution_count": 40,
   "metadata": {},
   "outputs": [
    {
     "name": "stdout",
     "output_type": "stream",
     "text": [
      "+-------+------+------+--------------------+--------------------+----+--------+-----+--------------------+------------------+\n",
      "|movieID|userID|rating|               title|              genres|year|category|score|         description|        prediction|\n",
      "+-------+------+------+--------------------+--------------------+----+--------+-----+--------------------+------------------+\n",
      "|  27311| 47605|   4.5|Batman Beyond: Re...|[Action, Animatio...|2000|    2000|  7.7|while trying to u...|3.4999464087178707|\n",
      "|  27311|   318|   4.0|Batman Beyond: Re...|[Action, Animatio...|2000|    2000|  7.7|while trying to u...|3.4999464087178707|\n",
      "|  27311|136479|   2.0|Batman Beyond: Re...|[Action, Animatio...|2000|    2000|  7.7|while trying to u...|3.4999464087178707|\n",
      "|  27311| 35780|   3.0|Batman Beyond: Re...|[Action, Animatio...|2000|    2000|  7.7|while trying to u...|3.4999464087178707|\n",
      "|  27311| 36482|   4.0|Batman Beyond: Re...|[Action, Animatio...|2000|    2000|  7.7|while trying to u...|3.4999464087178707|\n",
      "+-------+------+------+--------------------+--------------------+----+--------+-----+--------------------+------------------+\n",
      "\n"
     ]
    }
   ],
   "source": [
    "## User Recommendations for movie27311\n",
    "preds_final.filter('movieId = 27311').sort('prediction', ascending=False).limit(5).show()"
   ]
  }
 ],
 "metadata": {
  "accelerator": "TPU",
  "colab": {
   "collapsed_sections": [],
   "machine_shape": "hm",
   "name": "MovieLensProject_ModelBuilding_ContentFilt.ipynb",
   "provenance": []
  },
  "kernelspec": {
   "display_name": "DS 5110 Spark 3.1",
   "language": "python",
   "name": "ds5110_spark3.1"
  },
  "language_info": {
   "codemirror_mode": {
    "name": "ipython",
    "version": 3
   },
   "file_extension": ".py",
   "mimetype": "text/x-python",
   "name": "python",
   "nbconvert_exporter": "python",
   "pygments_lexer": "ipython3",
   "version": "3.7.10"
  }
 },
 "nbformat": 4,
 "nbformat_minor": 4
}
